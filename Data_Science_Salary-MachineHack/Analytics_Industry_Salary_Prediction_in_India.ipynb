{
  "nbformat": 4,
  "nbformat_minor": 0,
  "metadata": {
    "kernelspec": {
      "display_name": "Python 3",
      "language": "python",
      "name": "python3"
    },
    "language_info": {
      "codemirror_mode": {
        "name": "ipython",
        "version": 3
      },
      "file_extension": ".py",
      "mimetype": "text/x-python",
      "name": "python",
      "nbconvert_exporter": "python",
      "pygments_lexer": "ipython3",
      "version": "3.7.6"
    },
    "colab": {
      "name": "Analytics Industry Salary Prediction in India.ipynb",
      "provenance": [],
      "collapsed_sections": []
    }
  },
  "cells": [
    {
      "cell_type": "code",
      "metadata": {
        "id": "AunGmLtUg3U7"
      },
      "source": [
        "import numpy as np\n",
        "import pandas as pd\n",
        "import matplotlib.pyplot as plt\n",
        "import seaborn as sns\n",
        "import re\n",
        "%matplotlib inline\n",
        "pd.set_option('display.max_columns',None)\n",
        "pd.set_option('display.max_rows',None)"
      ],
      "execution_count": 2040,
      "outputs": []
    },
    {
      "cell_type": "code",
      "metadata": {
        "id": "eHTBBtHMg3U9"
      },
      "source": [
        "train_data=pd.read_csv('/content/Final_Train_Dataset.csv',usecols=['experience', 'job_description', 'job_desig', 'job_type',\n",
        "       'key_skills', 'location', 'salary', 'company_name_encoded'])\n",
        "test_data=pd.read_csv('/content/Final_Test_Dataset.csv')"
      ],
      "execution_count": 2041,
      "outputs": []
    },
    {
      "cell_type": "code",
      "metadata": {
        "colab": {
          "base_uri": "https://localhost:8080/",
          "height": 140
        },
        "id": "AqT9me-rg3U9",
        "outputId": "52c784dd-67a2-4ffb-ae94-f98591030727"
      },
      "source": [
        "train_data.head(2)"
      ],
      "execution_count": 2042,
      "outputs": [
        {
          "output_type": "execute_result",
          "data": {
            "text/html": [
              "<div>\n",
              "<style scoped>\n",
              "    .dataframe tbody tr th:only-of-type {\n",
              "        vertical-align: middle;\n",
              "    }\n",
              "\n",
              "    .dataframe tbody tr th {\n",
              "        vertical-align: top;\n",
              "    }\n",
              "\n",
              "    .dataframe thead th {\n",
              "        text-align: right;\n",
              "    }\n",
              "</style>\n",
              "<table border=\"1\" class=\"dataframe\">\n",
              "  <thead>\n",
              "    <tr style=\"text-align: right;\">\n",
              "      <th></th>\n",
              "      <th>experience</th>\n",
              "      <th>job_description</th>\n",
              "      <th>job_desig</th>\n",
              "      <th>job_type</th>\n",
              "      <th>key_skills</th>\n",
              "      <th>location</th>\n",
              "      <th>salary</th>\n",
              "      <th>company_name_encoded</th>\n",
              "    </tr>\n",
              "  </thead>\n",
              "  <tbody>\n",
              "    <tr>\n",
              "      <th>0</th>\n",
              "      <td>5-7 yrs</td>\n",
              "      <td>Exp: Minimum 5 years;Good understanding of IOC...</td>\n",
              "      <td>Senior Exploit and Vulnerability Researcher</td>\n",
              "      <td>NaN</td>\n",
              "      <td>team skills, communication skills, analytical ...</td>\n",
              "      <td>Delhi NCR(Vikas Puri)</td>\n",
              "      <td>6to10</td>\n",
              "      <td>3687</td>\n",
              "    </tr>\n",
              "    <tr>\n",
              "      <th>1</th>\n",
              "      <td>10-17 yrs</td>\n",
              "      <td>He should have handled a team of atleast 5-6 d...</td>\n",
              "      <td>Head SCM</td>\n",
              "      <td>NaN</td>\n",
              "      <td>ppc, logistics, inventory management, supply c...</td>\n",
              "      <td>Sonepat</td>\n",
              "      <td>10to15</td>\n",
              "      <td>458</td>\n",
              "    </tr>\n",
              "  </tbody>\n",
              "</table>\n",
              "</div>"
            ],
            "text/plain": [
              "  experience                                    job_description  \\\n",
              "0    5-7 yrs  Exp: Minimum 5 years;Good understanding of IOC...   \n",
              "1  10-17 yrs  He should have handled a team of atleast 5-6 d...   \n",
              "\n",
              "                                     job_desig job_type  \\\n",
              "0  Senior Exploit and Vulnerability Researcher      NaN   \n",
              "1                                     Head SCM      NaN   \n",
              "\n",
              "                                          key_skills               location  \\\n",
              "0  team skills, communication skills, analytical ...  Delhi NCR(Vikas Puri)   \n",
              "1  ppc, logistics, inventory management, supply c...                Sonepat   \n",
              "\n",
              "   salary  company_name_encoded  \n",
              "0   6to10                  3687  \n",
              "1  10to15                   458  "
            ]
          },
          "metadata": {
            "tags": []
          },
          "execution_count": 2042
        }
      ]
    },
    {
      "cell_type": "code",
      "metadata": {
        "colab": {
          "base_uri": "https://localhost:8080/",
          "height": 140
        },
        "id": "Bd5ShVXMg3U_",
        "outputId": "6097f9fb-4818-4ffa-f434-b935d56172ee"
      },
      "source": [
        "test_data.head(2)"
      ],
      "execution_count": 2043,
      "outputs": [
        {
          "output_type": "execute_result",
          "data": {
            "text/html": [
              "<div>\n",
              "<style scoped>\n",
              "    .dataframe tbody tr th:only-of-type {\n",
              "        vertical-align: middle;\n",
              "    }\n",
              "\n",
              "    .dataframe tbody tr th {\n",
              "        vertical-align: top;\n",
              "    }\n",
              "\n",
              "    .dataframe thead th {\n",
              "        text-align: right;\n",
              "    }\n",
              "</style>\n",
              "<table border=\"1\" class=\"dataframe\">\n",
              "  <thead>\n",
              "    <tr style=\"text-align: right;\">\n",
              "      <th></th>\n",
              "      <th>experience</th>\n",
              "      <th>job_description</th>\n",
              "      <th>job_desig</th>\n",
              "      <th>job_type</th>\n",
              "      <th>key_skills</th>\n",
              "      <th>location</th>\n",
              "      <th>company_name_encoded</th>\n",
              "    </tr>\n",
              "  </thead>\n",
              "  <tbody>\n",
              "    <tr>\n",
              "      <th>0</th>\n",
              "      <td>7-12 yrs</td>\n",
              "      <td>Professional experience in Java/J2EE based ser...</td>\n",
              "      <td>IT Technology Senior Consultant/java/ J2ee/ Se...</td>\n",
              "      <td>NaN</td>\n",
              "      <td>Java, J2Ee, Tomcat, JBoss, Weblogic, Oracle, E...</td>\n",
              "      <td>Bengaluru</td>\n",
              "      <td>2066</td>\n",
              "    </tr>\n",
              "    <tr>\n",
              "      <th>1</th>\n",
              "      <td>0-5 yrs</td>\n",
              "      <td>We are looking for 20+ Fresher/Experienced Can...</td>\n",
              "      <td>Medical Billing Process | International KPO | ...</td>\n",
              "      <td>NaN</td>\n",
              "      <td>Medical Billing, Insurance Processing</td>\n",
              "      <td>Ahmedabad(Sola)</td>\n",
              "      <td>2629</td>\n",
              "    </tr>\n",
              "  </tbody>\n",
              "</table>\n",
              "</div>"
            ],
            "text/plain": [
              "  experience                                    job_description  \\\n",
              "0   7-12 yrs  Professional experience in Java/J2EE based ser...   \n",
              "1    0-5 yrs  We are looking for 20+ Fresher/Experienced Can...   \n",
              "\n",
              "                                           job_desig job_type  \\\n",
              "0  IT Technology Senior Consultant/java/ J2ee/ Se...      NaN   \n",
              "1  Medical Billing Process | International KPO | ...      NaN   \n",
              "\n",
              "                                          key_skills         location  \\\n",
              "0  Java, J2Ee, Tomcat, JBoss, Weblogic, Oracle, E...        Bengaluru   \n",
              "1              Medical Billing, Insurance Processing  Ahmedabad(Sola)   \n",
              "\n",
              "   company_name_encoded  \n",
              "0                  2066  \n",
              "1                  2629  "
            ]
          },
          "metadata": {
            "tags": []
          },
          "execution_count": 2043
        }
      ]
    },
    {
      "cell_type": "code",
      "metadata": {
        "id": "DKbiZg_xg3U_"
      },
      "source": [
        ""
      ],
      "execution_count": 2043,
      "outputs": []
    },
    {
      "cell_type": "code",
      "metadata": {
        "id": "COVt6emDg3U_"
      },
      "source": [
        "train_data['job_type'].fillna('missingjobtype', inplace=True)\n",
        "train_data['job_type'].replace('Analytics', 'analytics', inplace=True)\n",
        "train_data['job_type'].replace('Analytic', 'analytics', inplace=True)\n",
        "train_data['job_type'].replace('ANALYTICS', 'analytics', inplace=True)\n",
        "train_data['job_type'].replace('analytic', 'analytics', inplace=True)\n",
        "\n",
        "test_data['job_type'].fillna('missingjobtype', inplace=True)\n",
        "test_data['job_type'].replace('Analytics', 'analytics', inplace=True)\n",
        "test_data['job_type'].replace('Analytic', 'analytics', inplace=True)\n",
        "test_data['job_type'].replace('ANALYTICS', 'analytics', inplace=True)\n",
        "test_data['job_type'].replace('analytic', 'analytics', inplace=True)"
      ],
      "execution_count": 2044,
      "outputs": []
    },
    {
      "cell_type": "code",
      "metadata": {
        "id": "N8BehIg8g3U_"
      },
      "source": [
        "train_data.dropna(subset=['key_skills'],inplace=True)\n",
        "test_data.dropna(subset=['key_skills'],inplace=True)"
      ],
      "execution_count": 2045,
      "outputs": []
    },
    {
      "cell_type": "code",
      "metadata": {
        "id": "HcxU1yuag3U_"
      },
      "source": [
        "#For Descriptions which have Nan Values , we would replace them with the \"Missing Description\"\n",
        "train_data['job_description'].fillna(\"Missing Description\",inplace=True)\n",
        "#For Descriptions which have Nan Values , we would replace them with the \"Missing Description\"\n",
        "test_data['job_description'].fillna(\"Missing Description\",inplace=True)"
      ],
      "execution_count": 2046,
      "outputs": []
    },
    {
      "cell_type": "code",
      "metadata": {
        "colab": {
          "base_uri": "https://localhost:8080/"
        },
        "id": "BoKpKDffg3U_",
        "outputId": "4c95ec9c-8d90-4e36-d066-d72d737eddce"
      },
      "source": [
        "train_data.info()"
      ],
      "execution_count": 2047,
      "outputs": [
        {
          "output_type": "stream",
          "text": [
            "<class 'pandas.core.frame.DataFrame'>\n",
            "Int64Index: 19801 entries, 0 to 19801\n",
            "Data columns (total 8 columns):\n",
            " #   Column                Non-Null Count  Dtype \n",
            "---  ------                --------------  ----- \n",
            " 0   experience            19801 non-null  object\n",
            " 1   job_description       19801 non-null  object\n",
            " 2   job_desig             19801 non-null  object\n",
            " 3   job_type              19801 non-null  object\n",
            " 4   key_skills            19801 non-null  object\n",
            " 5   location              19801 non-null  object\n",
            " 6   salary                19801 non-null  object\n",
            " 7   company_name_encoded  19801 non-null  int64 \n",
            "dtypes: int64(1), object(7)\n",
            "memory usage: 1.4+ MB\n"
          ],
          "name": "stdout"
        }
      ]
    },
    {
      "cell_type": "code",
      "metadata": {
        "colab": {
          "base_uri": "https://localhost:8080/"
        },
        "id": "EzDXx351g3VA",
        "outputId": "93ad88c6-7fb9-44c0-c905-8afca01414f0"
      },
      "source": [
        "test_data.info()"
      ],
      "execution_count": 2048,
      "outputs": [
        {
          "output_type": "stream",
          "text": [
            "<class 'pandas.core.frame.DataFrame'>\n",
            "Int64Index: 6601 entries, 0 to 6600\n",
            "Data columns (total 7 columns):\n",
            " #   Column                Non-Null Count  Dtype \n",
            "---  ------                --------------  ----- \n",
            " 0   experience            6601 non-null   object\n",
            " 1   job_description       6601 non-null   object\n",
            " 2   job_desig             6601 non-null   object\n",
            " 3   job_type              6601 non-null   object\n",
            " 4   key_skills            6601 non-null   object\n",
            " 5   location              6601 non-null   object\n",
            " 6   company_name_encoded  6601 non-null   int64 \n",
            "dtypes: int64(1), object(6)\n",
            "memory usage: 412.6+ KB\n"
          ],
          "name": "stdout"
        }
      ]
    },
    {
      "cell_type": "code",
      "metadata": {
        "id": "qTN6f35Lg3VA"
      },
      "source": [
        "\n",
        "train_data['Minimum_experience']=train_data['experience'].apply(lambda x:x.split('-')[0])\n",
        "train_data['Maximum_experience']=train_data['experience'].apply(lambda x:x.split('-')[1])\n",
        "train_data['Maximum_experience']=train_data['Maximum_experience'].apply(lambda x:x.split(' ')[0])\n",
        "train_data['key_skill_len']=train_data['key_skills'].apply(lambda x:len(x.split(\",\")))"
      ],
      "execution_count": 2049,
      "outputs": []
    },
    {
      "cell_type": "code",
      "metadata": {
        "id": "61QaKoHcg3VA"
      },
      "source": [
        "test_data['Minimum_experience']=test_data['experience'].apply(lambda x:x.split('-')[0])\n",
        "test_data['Maximum_experience']=test_data['experience'].apply(lambda x:x.split('-')[1])\n",
        "test_data['key_skill_len']=test_data['key_skills'].apply(lambda x:len(x.split(\",\")))\n",
        "test_data['Maximum_experience']=test_data['Maximum_experience'].apply(lambda x:x.split(' ')[0])"
      ],
      "execution_count": 2050,
      "outputs": []
    },
    {
      "cell_type": "code",
      "metadata": {
        "colab": {
          "base_uri": "https://localhost:8080/"
        },
        "id": "EqcQJL3Dg3VA",
        "outputId": "f8ae6ab9-e4bf-49be-ba6a-ee4d489fd740"
      },
      "source": [
        "print(\"SOME OF KEY SKILLS IN ANALYTICS INDUSTRY : \")\n",
        "print(\"1:\",train_data['key_skills'][2])\n",
        "print(\"2\",train_data['key_skills'][1])\n",
        "print(\"3\",train_data['key_skills'][9])\n",
        "print(\"4\",train_data['key_skills'][18])\n",
        "print(\"5\",train_data['key_skills'][29])"
      ],
      "execution_count": 2051,
      "outputs": [
        {
          "output_type": "stream",
          "text": [
            "SOME OF KEY SKILLS IN ANALYTICS INDUSTRY : \n",
            "1: HR Analytics, Employee Engagement, Training, Succession Planning...\n",
            "2 ppc, logistics, inventory management, supply chain management, procurement,...\n",
            "3 accounting standards, finance, auditing, financial planning...\n",
            "4 Information Retrieval, Hadoop, Hive, Spark, Mapreduce, SCALA...\n",
            "5 Life Insurance, Actuarial, Actuarial Analyst, actuary, Regression Testing...\n"
          ],
          "name": "stdout"
        }
      ]
    },
    {
      "cell_type": "code",
      "metadata": {
        "id": "BdHMXrhCg3VA"
      },
      "source": [
        "#cleaning unecessary tokens in skills for better understanding for algorithms...\n",
        "def clean_skills(skill):\n",
        "    skills=str(skill).lower()\n",
        "    skills=re.sub(r'\\...',' ',skills)\n",
        "    skills=re.sub(r',',' ',skills)\n",
        "    skills=re.sub('\\s+',' ',skills)\n",
        "    return skills\n",
        "\n",
        "train_data['Key_Skills']=train_data['key_skills'].apply(clean_skills)\n",
        "test_data['Key_Skills']=test_data['key_skills'].apply(clean_skills)"
      ],
      "execution_count": 2052,
      "outputs": []
    },
    {
      "cell_type": "code",
      "metadata": {
        "colab": {
          "base_uri": "https://localhost:8080/"
        },
        "id": "ofLbDo_3g3VB",
        "outputId": "ae58f6cd-6a4a-491e-f632-2db67c2f2910"
      },
      "source": [
        "train_data['Key_Skills'][0],train_data['Key_Skills'][1]"
      ],
      "execution_count": 2053,
      "outputs": [
        {
          "output_type": "execute_result",
          "data": {
            "text/plain": [
              "('team skills communication skills analytical skills problem solving ',\n",
              " 'ppc logistics inventory management supply chain management procurement ')"
            ]
          },
          "metadata": {
            "tags": []
          },
          "execution_count": 2053
        }
      ]
    },
    {
      "cell_type": "code",
      "metadata": {
        "colab": {
          "base_uri": "https://localhost:8080/"
        },
        "id": "PmIu59oDg3VB",
        "outputId": "c6507cc0-5e6f-4dcd-c541-3386f7f61512"
      },
      "source": [
        "a = 0 \n",
        "for i in range(a,a+10):\n",
        "    print(train_data['job_description'][i])\n",
        "    print(train_data['job_desig'][i])\n",
        "    print(train_data['key_skills'][i])\n",
        "    print()"
      ],
      "execution_count": 2054,
      "outputs": [
        {
          "output_type": "stream",
          "text": [
            "Exp: Minimum 5 years;Good understanding of IOC rules; Must Have:;Good analytical skills;Good ...\n",
            "Senior Exploit and Vulnerability Researcher\n",
            "team skills, communication skills, analytical skills, problem solving...\n",
            "\n",
            "He should have handled a team of atleast 5-6 direct reportees;mechanical or Diploma (mechanical) with at ...\n",
            "Head SCM\n",
            "ppc, logistics, inventory management, supply chain management, procurement,...\n",
            "\n",
            "Must be an effective communicator (written & spoken) and strong in inter personal relationship & ...\n",
            "Deputy Manager - Talent Management & Leadership Development - Auto\n",
            "HR Analytics, Employee Engagement, Training, Succession Planning...\n",
            "\n",
            "7  -  10 years of overall experience in data engineering and Big Data systems;Proficient understanding ...\n",
            "Associate Manager Data Engineering\n",
            "SQL, Javascript, Automation, Python, Ruby, Analytics, Machine learning...\n",
            "\n",
            "Chartered Accountancy degree or MBA in Finance from a premier institute with 1-3 years of experience in ...\n",
            "TS- GSA- Senior Analyst\n",
            "accounting, finance, cash flow, financial planning, statutory accounting\n",
            "\n",
            "4.\tWillingness to travel;5.\tExperience in Teacher Training is ...\n",
            "Senior Trainer- Academics\n",
            "academics, effective communication, teacher training, academic trainer...\n",
            "\n",
            "- Experience in managing fraud analytics with knowledge across customer lifecycle is must;- Candidate ...\n",
            "Associate Vice President - Fraud Analytics - SAS - Bank\n",
            "Fraud Analytics, People Management Skills, Team Leading, Problem Solving...\n",
            "\n",
            "Qualified Chartered Accountant with 1-3 yrs of Post qualification ...\n",
            "Manager - Internal Audit - CA - Big4\n",
            "Accounting, Internal Audit, Auditing, Enterprise Risk Management, Big4...\n",
            "\n",
            "Proven experience as payroll executive or specialist;Very good knowledge of legislation and regulations ...\n",
            "Payroll Executive\n",
            "esic, hr, bonus, pf, tds, payroll, superannuation, wages, leave...\n",
            "\n",
            "Other activities as may be required over the period of time for smooth functioning of Finance operations ...\n",
            "Required CA (manager Finance) for R&R Salons Pvt Ltd Bangalore\n",
            "accounting standards, finance, auditing, financial planning...\n",
            "\n"
          ],
          "name": "stdout"
        }
      ]
    },
    {
      "cell_type": "code",
      "metadata": {
        "id": "DoVYAs17g3VB"
      },
      "source": [
        "#Since there are a lot of unnecessary tokens in the text, we  have to clean those for further better understanding , so that \n",
        "#algorithms learn our data better...\n",
        "def clean_description(description):\n",
        "    desc=str(description).lower()\n",
        "    desc=re.sub(r',',' ',desc)\n",
        "    desc=re.sub(r'/...',' ',desc)\n",
        "    desc=re.sub(r'[^a-z]',' ',desc)\n",
        "    desc=re.sub('\\s+',' ',desc)\n",
        "    return desc\n",
        "\n",
        "\n",
        "train_data['JOB_DESCRIPTION']=train_data['job_description'].apply(clean_description)\n",
        "test_data['JOB_DESCRIPTION']=test_data['job_description'].apply(clean_description)"
      ],
      "execution_count": 2055,
      "outputs": []
    },
    {
      "cell_type": "code",
      "metadata": {
        "id": "EAKKcjtPg3VB"
      },
      "source": [
        "def clean_desig(desig):\n",
        "    designation=str(desig).lower()\n",
        "    designation=re.sub('[^a-z]',' ',designation)\n",
        "    designation=re.sub('\\s+',' ',designation)\n",
        "    return designation\n",
        "\n",
        "train_data['Job_Desig']=train_data['job_desig'].apply(clean_desig)\n",
        "test_data['Job_Desig']=test_data['job_desig'].apply(clean_desig)"
      ],
      "execution_count": 2056,
      "outputs": []
    },
    {
      "cell_type": "code",
      "metadata": {
        "id": "5OxXnVFkg3VB"
      },
      "source": [
        "def clean_location(loc):\n",
        "    location = loc.lower()\n",
        "    location = re.sub(r'[^a-z]', ' ', location)\n",
        "    location = re.sub(r'\\s+', ' ', location)\n",
        "    return location\n",
        "\n",
        "train_data['Location'] = train_data['location'].apply(clean_location)\n",
        "test_data['Location'] = test_data['location'].apply(clean_location)"
      ],
      "execution_count": 2057,
      "outputs": []
    },
    {
      "cell_type": "code",
      "metadata": {
        "colab": {
          "base_uri": "https://localhost:8080/"
        },
        "id": "PHkXnf5_g3VB",
        "outputId": "89f6e28c-80d2-4818-9613-21a2b3da23a5"
      },
      "source": [
        "print(\"After Cleaning The Dataset..\")\n",
        "a = 0 \n",
        "for i in range(a,a+10):\n",
        "    print(\"1. \",train_data['JOB_DESCRIPTION'][i])\n",
        "    print(\"2. \",train_data['Job_Desig'][i])\n",
        "    print(\"3. \",train_data['Key_Skills'][i])\n",
        "    print(\"4. \",train_data['Location'][i])\n",
        "    print(\"5. \",train_data['job_type'][i])\n",
        "    print()"
      ],
      "execution_count": 2058,
      "outputs": [
        {
          "output_type": "stream",
          "text": [
            "After Cleaning The Dataset..\n",
            "1.  exp minimum years good understanding of ioc rules must have good analytical skills good \n",
            "2.  senior exploit and vulnerability researcher\n",
            "3.  team skills communication skills analytical skills problem solving \n",
            "4.  delhi ncr vikas puri \n",
            "5.  missingjobtype\n",
            "\n",
            "1.  he should have handled a team of atleast direct reportees mechanical or diploma mechanical with at \n",
            "2.  head scm\n",
            "3.  ppc logistics inventory management supply chain management procurement \n",
            "4.  sonepat\n",
            "5.  missingjobtype\n",
            "\n",
            "1.  must be an effective communicator written spoken and strong in inter personal relationship \n",
            "2.  deputy manager talent management leadership development auto\n",
            "3.  hr analytics employee engagement training succession planning \n",
            "4.  delhi ncr\n",
            "5.  analytics\n",
            "\n",
            "1.   years of overall experience in data engineering and big data systems proficient understanding \n",
            "2.  associate manager data engineering\n",
            "3.  sql javascript automation python ruby analytics machine learning \n",
            "4.  bengaluru\n",
            "5.  analytics\n",
            "\n",
            "1.  chartered accountancy degree or mba in finance from a premier institute with years of experience in \n",
            "2.  ts gsa senior analyst\n",
            "3.  accounting finance cash flow financial planning statutory accounting\n",
            "4.  gurgaon\n",
            "5.  missingjobtype\n",
            "\n",
            "1.   willingness to travel experience in teacher training is \n",
            "2.  senior trainer academics\n",
            "3.  academics effective communication teacher training academic trainer \n",
            "4.  noida\n",
            "5.  missingjobtype\n",
            "\n",
            "1.   experience in managing fraud analytics with knowledge across customer lifecycle is must candidate \n",
            "2.  associate vice president fraud analytics sas bank\n",
            "3.  fraud analytics people management skills team leading problem solving \n",
            "4.  delhi ncr\n",
            "5.  analytics\n",
            "\n",
            "1.  qualified chartered accountant with yrs of post qualification \n",
            "2.  manager internal audit ca big \n",
            "3.  accounting internal audit auditing enterprise risk management big4 \n",
            "4.  pune\n",
            "5.  missingjobtype\n",
            "\n",
            "1.  proven experience as payroll executive or specialist very good knowledge of legislation and regulations \n",
            "2.  payroll executive\n",
            "3.  esic hr bonus pf tds payroll superannuation wages leave \n",
            "4.  ahmedabad bodakdev \n",
            "5.  missingjobtype\n",
            "\n",
            "1.  other activities as may be required over the period of time for smooth functioning of finance operations \n",
            "2.  required ca manager finance for r r salons pvt ltd bangalore\n",
            "3.  accounting standards finance auditing financial planning \n",
            "4.  bengaluru kodihalli \n",
            "5.  missingjobtype\n",
            "\n"
          ],
          "name": "stdout"
        }
      ]
    },
    {
      "cell_type": "code",
      "metadata": {
        "id": "JQHkxVkJg3VN"
      },
      "source": [
        "train_data.drop(['job_description','job_desig','location','key_skills'],1,inplace=True)\n",
        "test_data.drop(['job_description','job_desig','location','key_skills'],1,inplace=True)"
      ],
      "execution_count": 2059,
      "outputs": []
    },
    {
      "cell_type": "code",
      "metadata": {
        "id": "3hP76yqyg3VN"
      },
      "source": [
        "train_data.drop(['experience'],1,inplace=True)\n",
        "test_data.drop(['experience'],1,inplace=True)"
      ],
      "execution_count": 2060,
      "outputs": []
    },
    {
      "cell_type": "code",
      "metadata": {
        "colab": {
          "base_uri": "https://localhost:8080/",
          "height": 190
        },
        "id": "glwapj7hg3VN",
        "outputId": "1a243dd9-629b-4d03-9a5f-a9b04e23bf67"
      },
      "source": [
        "train_data.head(2)"
      ],
      "execution_count": 2061,
      "outputs": [
        {
          "output_type": "execute_result",
          "data": {
            "text/html": [
              "<div>\n",
              "<style scoped>\n",
              "    .dataframe tbody tr th:only-of-type {\n",
              "        vertical-align: middle;\n",
              "    }\n",
              "\n",
              "    .dataframe tbody tr th {\n",
              "        vertical-align: top;\n",
              "    }\n",
              "\n",
              "    .dataframe thead th {\n",
              "        text-align: right;\n",
              "    }\n",
              "</style>\n",
              "<table border=\"1\" class=\"dataframe\">\n",
              "  <thead>\n",
              "    <tr style=\"text-align: right;\">\n",
              "      <th></th>\n",
              "      <th>job_type</th>\n",
              "      <th>salary</th>\n",
              "      <th>company_name_encoded</th>\n",
              "      <th>Minimum_experience</th>\n",
              "      <th>Maximum_experience</th>\n",
              "      <th>key_skill_len</th>\n",
              "      <th>Key_Skills</th>\n",
              "      <th>JOB_DESCRIPTION</th>\n",
              "      <th>Job_Desig</th>\n",
              "      <th>Location</th>\n",
              "    </tr>\n",
              "  </thead>\n",
              "  <tbody>\n",
              "    <tr>\n",
              "      <th>0</th>\n",
              "      <td>missingjobtype</td>\n",
              "      <td>6to10</td>\n",
              "      <td>3687</td>\n",
              "      <td>5</td>\n",
              "      <td>7</td>\n",
              "      <td>4</td>\n",
              "      <td>team skills communication skills analytical sk...</td>\n",
              "      <td>exp minimum years good understanding of ioc ru...</td>\n",
              "      <td>senior exploit and vulnerability researcher</td>\n",
              "      <td>delhi ncr vikas puri</td>\n",
              "    </tr>\n",
              "    <tr>\n",
              "      <th>1</th>\n",
              "      <td>missingjobtype</td>\n",
              "      <td>10to15</td>\n",
              "      <td>458</td>\n",
              "      <td>10</td>\n",
              "      <td>17</td>\n",
              "      <td>6</td>\n",
              "      <td>ppc logistics inventory management supply chai...</td>\n",
              "      <td>he should have handled a team of atleast direc...</td>\n",
              "      <td>head scm</td>\n",
              "      <td>sonepat</td>\n",
              "    </tr>\n",
              "  </tbody>\n",
              "</table>\n",
              "</div>"
            ],
            "text/plain": [
              "         job_type  salary  company_name_encoded Minimum_experience  \\\n",
              "0  missingjobtype   6to10                  3687                  5   \n",
              "1  missingjobtype  10to15                   458                 10   \n",
              "\n",
              "  Maximum_experience  key_skill_len  \\\n",
              "0                  7              4   \n",
              "1                 17              6   \n",
              "\n",
              "                                          Key_Skills  \\\n",
              "0  team skills communication skills analytical sk...   \n",
              "1  ppc logistics inventory management supply chai...   \n",
              "\n",
              "                                     JOB_DESCRIPTION  \\\n",
              "0  exp minimum years good understanding of ioc ru...   \n",
              "1  he should have handled a team of atleast direc...   \n",
              "\n",
              "                                     Job_Desig               Location  \n",
              "0  senior exploit and vulnerability researcher  delhi ncr vikas puri   \n",
              "1                                     head scm                sonepat  "
            ]
          },
          "metadata": {
            "tags": []
          },
          "execution_count": 2061
        }
      ]
    },
    {
      "cell_type": "code",
      "metadata": {
        "id": "wsEOEKU0g3VN"
      },
      "source": [
        "#Do Exploratory Data Analysis"
      ],
      "execution_count": 2062,
      "outputs": []
    },
    {
      "cell_type": "code",
      "metadata": {
        "id": "PxKE3_pOg3VN"
      },
      "source": [
        "train_data['merged_text']=(train_data['Job_Desig'] + ' ' + train_data['JOB_DESCRIPTION'] + ' ' + train_data['Key_Skills']\n",
        "                      + ' ' + train_data['job_type'])\n",
        "\n",
        "test_data['merged_text']=(test_data['Job_Desig'] + ' ' + test_data['JOB_DESCRIPTION'] + ' ' + test_data['Key_Skills']\n",
        "                      + ' ' + test_data['job_type'])"
      ],
      "execution_count": 2063,
      "outputs": []
    },
    {
      "cell_type": "code",
      "metadata": {
        "id": "aNUBeGgzg3VN"
      },
      "source": [
        "from sklearn.preprocessing import LabelEncoder\n",
        "le = LabelEncoder()\n",
        "train_data['salary'] = le.fit_transform(train_data['salary'])"
      ],
      "execution_count": 2064,
      "outputs": []
    },
    {
      "cell_type": "code",
      "metadata": {
        "id": "__iDTLvUg3VN"
      },
      "source": [
        "from sklearn.model_selection import train_test_split\n",
        "\n",
        "X_train, X_test, y_train, y_test = train_test_split(\n",
        "    train_data[['merged_text', 'Location','Minimum_experience','Maximum_experience','company_name_encoded','key_skill_len']], \n",
        "    train_data['salary'], test_size=0.20, \n",
        "    stratify=train_data['salary'], random_state=75)"
      ],
      "execution_count": 2065,
      "outputs": []
    },
    {
      "cell_type": "code",
      "metadata": {
        "id": "F5utNV3zg3VN"
      },
      "source": [
        "X_train_merged = X_train['merged_text']\n",
        "X_train_location = X_train['Location']\n",
        "\n",
        "X_test_merged = X_test['merged_text']\n",
        "X_test_location = X_test['Location']"
      ],
      "execution_count": 2066,
      "outputs": []
    },
    {
      "cell_type": "code",
      "metadata": {
        "id": "q3xg_reRg3VN"
      },
      "source": [
        "from sklearn.feature_extraction.text import TfidfVectorizer, CountVectorizer"
      ],
      "execution_count": 2067,
      "outputs": []
    },
    {
      "cell_type": "code",
      "metadata": {
        "id": "HaBLplFOg3VN"
      },
      "source": [
        "tf1 = TfidfVectorizer(min_df=4, token_pattern=r'\\w{3,}', ngram_range=(1,3), max_df=0.85)\n",
        "tf2 = TfidfVectorizer(min_df=4, token_pattern=r'\\w{3,}',ngram_range=(1,3))\n",
        "\n",
        "X_train_merged = tf1.fit_transform(X_train_merged)\n",
        "X_train_location = tf2.fit_transform(X_train_location)\n",
        "\n",
        "X_test_merged = tf1.transform(X_test_merged)\n",
        "X_test_location = tf2.transform(X_test_location)"
      ],
      "execution_count": 2068,
      "outputs": []
    },
    {
      "cell_type": "code",
      "metadata": {
        "id": "aALlsAxug3VN"
      },
      "source": [
        "from scipy import sparse\n",
        "from sklearn.preprocessing import StandardScaler\n",
        "\n",
        "sc1 = StandardScaler()\n",
        "X_train_MinExp = sc1.fit_transform(np.array(X_train['Minimum_experience']).reshape(-1,1))\n",
        "X_test_MinExp = sc1.transform(np.array(X_test['Minimum_experience']).reshape(-1,1))\n",
        "X_train_MinExp = sparse.csr_matrix(X_train_MinExp)\n",
        "X_test_MinExp = sparse.csr_matrix(X_test_MinExp)\n",
        "\n",
        "sc2 = StandardScaler()\n",
        "X_train_MaxExp = sc2.fit_transform(np.array(X_train['Maximum_experience']).reshape(-1,1))\n",
        "X_test_MaxExp = sc2.transform(np.array(X_test['Maximum_experience']).reshape(-1,1))\n",
        "X_train_MaxExp = sparse.csr_matrix(X_train_MaxExp)\n",
        "X_test_MaxExp = sparse.csr_matrix(X_test_MaxExp)\n",
        "\n",
        "sc3 = StandardScaler()\n",
        "X_train_comp = sc3.fit_transform(np.array(X_train['company_name_encoded']).reshape(-1,1))\n",
        "X_test_comp = sc3.transform(np.array(X_test['company_name_encoded']).reshape(-1,1))\n",
        "X_train_comp = sparse.csr_matrix(X_train_comp)\n",
        "X_test_comp = sparse.csr_matrix(X_test_comp)\n",
        "\n",
        "sc4 = StandardScaler()\n",
        "X_train_skillLen = sc4.fit_transform(np.array(X_train['key_skill_len']).reshape(-1,1))\n",
        "X_test_skillLen = sc4.transform(np.array(X_test['key_skill_len']).reshape(-1,1))\n",
        "X_train_skillLen = sparse.csr_matrix(X_train_skillLen)\n",
        "X_test_skillLen = sparse.csr_matrix(X_test_skillLen)\n"
      ],
      "execution_count": 2069,
      "outputs": []
    },
    {
      "cell_type": "code",
      "metadata": {
        "id": "bnV60NEgg3VN"
      },
      "source": [
        "from scipy.sparse import hstack, csr_matrix\n",
        "merged_train = hstack((X_train_merged, X_train_location, X_train_MinExp, X_train_MaxExp,X_train_comp,X_train_skillLen))\n",
        "merged_test  = hstack((X_test_merged, X_test_location, X_test_MinExp, X_test_MaxExp,X_test_comp,X_test_skillLen))"
      ],
      "execution_count": 2070,
      "outputs": []
    },
    {
      "cell_type": "code",
      "metadata": {
        "colab": {
          "base_uri": "https://localhost:8080/"
        },
        "id": "HZgb8qIZg3VN",
        "outputId": "e05290f1-983f-42a5-aa93-596b4c5091e9"
      },
      "source": [
        "merged_train.shape, merged_test.shape"
      ],
      "execution_count": 2071,
      "outputs": [
        {
          "output_type": "execute_result",
          "data": {
            "text/plain": [
              "((15840, 35106), (3961, 35106))"
            ]
          },
          "metadata": {
            "tags": []
          },
          "execution_count": 2071
        }
      ]
    },
    {
      "cell_type": "code",
      "metadata": {
        "id": "WQHNvRj2g3VN"
      },
      "source": [
        "from sklearn.metrics import accuracy_score, classification_report, confusion_matrix"
      ],
      "execution_count": 2072,
      "outputs": []
    },
    {
      "cell_type": "code",
      "metadata": {
        "id": "ONoX74zXg3VN"
      },
      "source": [
        "import lightgbm as lgb\n",
        "train = lgb.Dataset(merged_train, label=y_train)\n",
        "test = lgb.Dataset(merged_test, label=y_test)"
      ],
      "execution_count": 2073,
      "outputs": []
    },
    {
      "cell_type": "code",
      "metadata": {
        "id": "MRpkabKFg3VN"
      },
      "source": [
        "#train_data"
      ],
      "execution_count": 2074,
      "outputs": []
    },
    {
      "cell_type": "code",
      "metadata": {
        "id": "8KB3_jpXg3WA"
      },
      "source": [
        "param = {'objective': 'multiclass',\n",
        "         'num_iterations': 100,\n",
        "         'learning_rate': 0.04,  \n",
        "         'num_leaves': 23,\n",
        "         'max_depth': 9, \n",
        "         'min_data_in_leaf': 25, \n",
        "         'max_bin': 10, \n",
        "         'min_data_in_bin': 2,   \n",
        "         'num_class': 6,\n",
        "         'metric': 'multi_logloss'\n",
        "         }"
      ],
      "execution_count": 2075,
      "outputs": []
    },
    {
      "cell_type": "code",
      "metadata": {
        "colab": {
          "base_uri": "https://localhost:8080/"
        },
        "id": "MQ9J3jd-g3WA",
        "outputId": "7b0bdb34-3493-4471-84fe-afd6cacf747d"
      },
      "source": [
        "lgbm = lgb.train(params=param,\n",
        "                 train_set=train,\n",
        "                 num_boost_round=200,\n",
        "                 valid_sets=[test])\n",
        "\n",
        "y_pred_class = lgbm.predict(merged_test)"
      ],
      "execution_count": 2076,
      "outputs": [
        {
          "output_type": "stream",
          "text": [
            "/usr/local/lib/python3.6/dist-packages/lightgbm/engine.py:118: UserWarning: Found `num_iterations` in params. Will use it instead of argument\n",
            "  warnings.warn(\"Found `{}` in params. Will use it instead of argument\".format(alias))\n"
          ],
          "name": "stderr"
        },
        {
          "output_type": "stream",
          "text": [
            "[1]\tvalid_0's multi_logloss: 1.72176\n",
            "[2]\tvalid_0's multi_logloss: 1.69923\n",
            "[3]\tvalid_0's multi_logloss: 1.67866\n",
            "[4]\tvalid_0's multi_logloss: 1.65924\n",
            "[5]\tvalid_0's multi_logloss: 1.64129\n",
            "[6]\tvalid_0's multi_logloss: 1.62469\n",
            "[7]\tvalid_0's multi_logloss: 1.60878\n",
            "[8]\tvalid_0's multi_logloss: 1.59392\n",
            "[9]\tvalid_0's multi_logloss: 1.57987\n",
            "[10]\tvalid_0's multi_logloss: 1.56646\n",
            "[11]\tvalid_0's multi_logloss: 1.55338\n",
            "[12]\tvalid_0's multi_logloss: 1.54124\n",
            "[13]\tvalid_0's multi_logloss: 1.52947\n",
            "[14]\tvalid_0's multi_logloss: 1.51843\n",
            "[15]\tvalid_0's multi_logloss: 1.50781\n",
            "[16]\tvalid_0's multi_logloss: 1.49787\n",
            "[17]\tvalid_0's multi_logloss: 1.48847\n",
            "[18]\tvalid_0's multi_logloss: 1.47935\n",
            "[19]\tvalid_0's multi_logloss: 1.47063\n",
            "[20]\tvalid_0's multi_logloss: 1.46241\n",
            "[21]\tvalid_0's multi_logloss: 1.45442\n",
            "[22]\tvalid_0's multi_logloss: 1.44678\n",
            "[23]\tvalid_0's multi_logloss: 1.43947\n",
            "[24]\tvalid_0's multi_logloss: 1.43229\n",
            "[25]\tvalid_0's multi_logloss: 1.4256\n",
            "[26]\tvalid_0's multi_logloss: 1.41906\n",
            "[27]\tvalid_0's multi_logloss: 1.41289\n",
            "[28]\tvalid_0's multi_logloss: 1.40687\n",
            "[29]\tvalid_0's multi_logloss: 1.40086\n",
            "[30]\tvalid_0's multi_logloss: 1.39515\n",
            "[31]\tvalid_0's multi_logloss: 1.3898\n",
            "[32]\tvalid_0's multi_logloss: 1.38464\n",
            "[33]\tvalid_0's multi_logloss: 1.37962\n",
            "[34]\tvalid_0's multi_logloss: 1.37489\n",
            "[35]\tvalid_0's multi_logloss: 1.37025\n",
            "[36]\tvalid_0's multi_logloss: 1.36544\n",
            "[37]\tvalid_0's multi_logloss: 1.36101\n",
            "[38]\tvalid_0's multi_logloss: 1.35665\n",
            "[39]\tvalid_0's multi_logloss: 1.35252\n",
            "[40]\tvalid_0's multi_logloss: 1.34846\n",
            "[41]\tvalid_0's multi_logloss: 1.34459\n",
            "[42]\tvalid_0's multi_logloss: 1.34094\n",
            "[43]\tvalid_0's multi_logloss: 1.33721\n",
            "[44]\tvalid_0's multi_logloss: 1.33381\n",
            "[45]\tvalid_0's multi_logloss: 1.33043\n",
            "[46]\tvalid_0's multi_logloss: 1.32697\n",
            "[47]\tvalid_0's multi_logloss: 1.32362\n",
            "[48]\tvalid_0's multi_logloss: 1.32048\n",
            "[49]\tvalid_0's multi_logloss: 1.31743\n",
            "[50]\tvalid_0's multi_logloss: 1.31443\n",
            "[51]\tvalid_0's multi_logloss: 1.31163\n",
            "[52]\tvalid_0's multi_logloss: 1.30887\n",
            "[53]\tvalid_0's multi_logloss: 1.30621\n",
            "[54]\tvalid_0's multi_logloss: 1.30371\n",
            "[55]\tvalid_0's multi_logloss: 1.30122\n",
            "[56]\tvalid_0's multi_logloss: 1.29877\n",
            "[57]\tvalid_0's multi_logloss: 1.29639\n",
            "[58]\tvalid_0's multi_logloss: 1.29421\n",
            "[59]\tvalid_0's multi_logloss: 1.29211\n",
            "[60]\tvalid_0's multi_logloss: 1.28993\n",
            "[61]\tvalid_0's multi_logloss: 1.28782\n",
            "[62]\tvalid_0's multi_logloss: 1.28591\n",
            "[63]\tvalid_0's multi_logloss: 1.28399\n",
            "[64]\tvalid_0's multi_logloss: 1.28212\n",
            "[65]\tvalid_0's multi_logloss: 1.28051\n",
            "[66]\tvalid_0's multi_logloss: 1.27872\n",
            "[67]\tvalid_0's multi_logloss: 1.27701\n",
            "[68]\tvalid_0's multi_logloss: 1.27545\n",
            "[69]\tvalid_0's multi_logloss: 1.27401\n",
            "[70]\tvalid_0's multi_logloss: 1.27242\n",
            "[71]\tvalid_0's multi_logloss: 1.27115\n",
            "[72]\tvalid_0's multi_logloss: 1.26975\n",
            "[73]\tvalid_0's multi_logloss: 1.26821\n",
            "[74]\tvalid_0's multi_logloss: 1.26695\n",
            "[75]\tvalid_0's multi_logloss: 1.26577\n",
            "[76]\tvalid_0's multi_logloss: 1.26442\n",
            "[77]\tvalid_0's multi_logloss: 1.26317\n",
            "[78]\tvalid_0's multi_logloss: 1.26198\n",
            "[79]\tvalid_0's multi_logloss: 1.26089\n",
            "[80]\tvalid_0's multi_logloss: 1.25975\n",
            "[81]\tvalid_0's multi_logloss: 1.25864\n",
            "[82]\tvalid_0's multi_logloss: 1.25761\n",
            "[83]\tvalid_0's multi_logloss: 1.2564\n",
            "[84]\tvalid_0's multi_logloss: 1.25539\n",
            "[85]\tvalid_0's multi_logloss: 1.25428\n",
            "[86]\tvalid_0's multi_logloss: 1.25314\n",
            "[87]\tvalid_0's multi_logloss: 1.25208\n",
            "[88]\tvalid_0's multi_logloss: 1.25121\n",
            "[89]\tvalid_0's multi_logloss: 1.2501\n",
            "[90]\tvalid_0's multi_logloss: 1.24909\n",
            "[91]\tvalid_0's multi_logloss: 1.24808\n",
            "[92]\tvalid_0's multi_logloss: 1.24708\n",
            "[93]\tvalid_0's multi_logloss: 1.24626\n",
            "[94]\tvalid_0's multi_logloss: 1.24531\n",
            "[95]\tvalid_0's multi_logloss: 1.24454\n",
            "[96]\tvalid_0's multi_logloss: 1.24366\n",
            "[97]\tvalid_0's multi_logloss: 1.24286\n",
            "[98]\tvalid_0's multi_logloss: 1.24203\n",
            "[99]\tvalid_0's multi_logloss: 1.24122\n",
            "[100]\tvalid_0's multi_logloss: 1.24034\n"
          ],
          "name": "stdout"
        },
        {
          "output_type": "stream",
          "text": [
            "/usr/local/lib/python3.6/dist-packages/lightgbm/basic.py:478: UserWarning: Converting data to scipy sparse matrix.\n",
            "  warnings.warn('Converting data to scipy sparse matrix.')\n"
          ],
          "name": "stderr"
        }
      ]
    },
    {
      "cell_type": "code",
      "metadata": {
        "colab": {
          "base_uri": "https://localhost:8080/"
        },
        "id": "e2syWYLLg3WA",
        "outputId": "6cb7db19-faa4-4742-c6d6-7349c28d14d7"
      },
      "source": [
        "\n",
        "predictions = []\n",
        "for x in y_pred_class:\n",
        "    predictions.append(np.argmax(x))\n",
        "\n",
        "print('accuracy:', accuracy_score(y_test, predictions)*100)"
      ],
      "execution_count": 2077,
      "outputs": [
        {
          "output_type": "stream",
          "text": [
            "accuracy: 48.018177227972735\n"
          ],
          "name": "stdout"
        }
      ]
    },
    {
      "cell_type": "code",
      "metadata": {
        "id": "IQJkARNEg3WA"
      },
      "source": [
        "#Predictions"
      ],
      "execution_count": 2078,
      "outputs": []
    },
    {
      "cell_type": "code",
      "metadata": {
        "id": "eK4eUmMtg3WA"
      },
      "source": [
        "X_train_merged = train_data['merged_text']\n",
        "X_train_location = train_data['Location']\n",
        "\n",
        "X_test_merged =test_data['merged_text']\n",
        "X_test_location =test_data['Location']\n",
        "\n",
        "y_train = train_data['salary']"
      ],
      "execution_count": 2079,
      "outputs": []
    },
    {
      "cell_type": "code",
      "metadata": {
        "id": "OfHzf-lsg3WA"
      },
      "source": [
        "tf1 = TfidfVectorizer(min_df=4, token_pattern=r'\\w{3,}', ngram_range=(1,3), max_df=0.85)\n",
        "tf2 = TfidfVectorizer(min_df=4, token_pattern=r'\\w{3,}',ngram_range=(1,3))\n",
        "\n",
        "X_train_merged = tf1.fit_transform(X_train_merged)\n",
        "X_train_location = tf2.fit_transform(X_train_location)\n",
        "\n",
        "X_test_merged = tf1.transform(X_test_merged)\n",
        "X_test_location = tf2.transform(X_test_location)"
      ],
      "execution_count": 2080,
      "outputs": []
    },
    {
      "cell_type": "code",
      "metadata": {
        "id": "6gc3fkLIg3WA"
      },
      "source": [
        "from scipy import sparse\n",
        "from sklearn.preprocessing import StandardScaler\n",
        "\n",
        "sc1 = StandardScaler()\n",
        "X_train_MinExp = sc1.fit_transform(np.array(X_train['Minimum_experience']).reshape(-1,1))\n",
        "X_test_MinExp = sc1.transform(np.array(X_test['Minimum_experience']).reshape(-1,1))\n",
        "X_train_MinExp = sparse.csr_matrix(X_train_MinExp)\n",
        "X_test_MinExp = sparse.csr_matrix(X_test_MinExp)\n",
        "\n",
        "sc2 = StandardScaler()\n",
        "X_train_MaxExp = sc2.fit_transform(np.array(X_train['Maximum_experience']).reshape(-1,1))\n",
        "X_test_MaxExp = sc2.transform(np.array(X_test['Maximum_experience']).reshape(-1,1))\n",
        "X_train_MaxExp = sparse.csr_matrix(X_train_MaxExp)\n",
        "X_test_MaxExp = sparse.csr_matrix(X_test_MaxExp)\n",
        "\n",
        "sc3 = StandardScaler()\n",
        "X_train_comp = sc3.fit_transform(np.array(X_train['company_name_encoded']).reshape(-1,1))\n",
        "X_test_comp = sc3.transform(np.array(X_test['company_name_encoded']).reshape(-1,1))\n",
        "X_train_comp = sparse.csr_matrix(X_train_comp)\n",
        "X_test_comp = sparse.csr_matrix(X_test_comp)\n",
        "\n",
        "sc4 = StandardScaler()\n",
        "X_train_skillLen = sc4.fit_transform(np.array(X_train['key_skill_len']).reshape(-1,1))\n",
        "X_test_skillLen = sc4.transform(np.array(X_test['key_skill_len']).reshape(-1,1))\n",
        "X_train_skillLen = sparse.csr_matrix(X_train_skillLen)\n",
        "X_test_skillLen = sparse.csr_matrix(X_test_skillLen)\n"
      ],
      "execution_count": 2081,
      "outputs": []
    },
    {
      "cell_type": "code",
      "metadata": {
        "colab": {
          "base_uri": "https://localhost:8080/",
          "height": 319
        },
        "id": "THs2qZ21g3WA",
        "outputId": "b362c699-61dc-40cf-d8ec-2c4d93c71416"
      },
      "source": [
        "merged_train = hstack((X_train_merged, X_train_location, X_train_MinExp, X_train_MaxExp,X_train_comp,X_train_skillLen))\n",
        "merged_test  = hstack((X_test_merged, X_test_location, X_test_MinExp, X_test_MaxExp,X_test_comp,X_test_skillLen))"
      ],
      "execution_count": 2082,
      "outputs": [
        {
          "output_type": "error",
          "ename": "ValueError",
          "evalue": "ignored",
          "traceback": [
            "\u001b[0;31m---------------------------------------------------------------------------\u001b[0m",
            "\u001b[0;31mValueError\u001b[0m                                Traceback (most recent call last)",
            "\u001b[0;32m<ipython-input-2082-779b6ee203db>\u001b[0m in \u001b[0;36m<module>\u001b[0;34m()\u001b[0m\n\u001b[0;32m----> 1\u001b[0;31m \u001b[0mmerged_train\u001b[0m \u001b[0;34m=\u001b[0m \u001b[0mhstack\u001b[0m\u001b[0;34m(\u001b[0m\u001b[0;34m(\u001b[0m\u001b[0mX_train_merged\u001b[0m\u001b[0;34m,\u001b[0m \u001b[0mX_train_location\u001b[0m\u001b[0;34m,\u001b[0m \u001b[0mX_train_MinExp\u001b[0m\u001b[0;34m,\u001b[0m \u001b[0mX_train_MaxExp\u001b[0m\u001b[0;34m,\u001b[0m\u001b[0mX_train_comp\u001b[0m\u001b[0;34m,\u001b[0m\u001b[0mX_train_skillLen\u001b[0m\u001b[0;34m)\u001b[0m\u001b[0;34m)\u001b[0m\u001b[0;34m\u001b[0m\u001b[0;34m\u001b[0m\u001b[0m\n\u001b[0m\u001b[1;32m      2\u001b[0m \u001b[0mmerged_test\u001b[0m  \u001b[0;34m=\u001b[0m \u001b[0mhstack\u001b[0m\u001b[0;34m(\u001b[0m\u001b[0;34m(\u001b[0m\u001b[0mX_test_merged\u001b[0m\u001b[0;34m,\u001b[0m \u001b[0mX_test_location\u001b[0m\u001b[0;34m,\u001b[0m \u001b[0mX_test_MinExp\u001b[0m\u001b[0;34m,\u001b[0m \u001b[0mX_test_MaxExp\u001b[0m\u001b[0;34m,\u001b[0m\u001b[0mX_test_comp\u001b[0m\u001b[0;34m,\u001b[0m\u001b[0mX_test_skillLen\u001b[0m\u001b[0;34m)\u001b[0m\u001b[0;34m)\u001b[0m\u001b[0;34m\u001b[0m\u001b[0;34m\u001b[0m\u001b[0m\n",
            "\u001b[0;32m/usr/local/lib/python3.6/dist-packages/scipy/sparse/construct.py\u001b[0m in \u001b[0;36mhstack\u001b[0;34m(blocks, format, dtype)\u001b[0m\n\u001b[1;32m    463\u001b[0m \u001b[0;34m\u001b[0m\u001b[0m\n\u001b[1;32m    464\u001b[0m     \"\"\"\n\u001b[0;32m--> 465\u001b[0;31m     \u001b[0;32mreturn\u001b[0m \u001b[0mbmat\u001b[0m\u001b[0;34m(\u001b[0m\u001b[0;34m[\u001b[0m\u001b[0mblocks\u001b[0m\u001b[0;34m]\u001b[0m\u001b[0;34m,\u001b[0m \u001b[0mformat\u001b[0m\u001b[0;34m=\u001b[0m\u001b[0mformat\u001b[0m\u001b[0;34m,\u001b[0m \u001b[0mdtype\u001b[0m\u001b[0;34m=\u001b[0m\u001b[0mdtype\u001b[0m\u001b[0;34m)\u001b[0m\u001b[0;34m\u001b[0m\u001b[0;34m\u001b[0m\u001b[0m\n\u001b[0m\u001b[1;32m    466\u001b[0m \u001b[0;34m\u001b[0m\u001b[0m\n\u001b[1;32m    467\u001b[0m \u001b[0;34m\u001b[0m\u001b[0m\n",
            "\u001b[0;32m/usr/local/lib/python3.6/dist-packages/scipy/sparse/construct.py\u001b[0m in \u001b[0;36mbmat\u001b[0;34m(blocks, format, dtype)\u001b[0m\n\u001b[1;32m    584\u001b[0m                                                     \u001b[0mexp\u001b[0m\u001b[0;34m=\u001b[0m\u001b[0mbrow_lengths\u001b[0m\u001b[0;34m[\u001b[0m\u001b[0mi\u001b[0m\u001b[0;34m]\u001b[0m\u001b[0;34m,\u001b[0m\u001b[0;34m\u001b[0m\u001b[0;34m\u001b[0m\u001b[0m\n\u001b[1;32m    585\u001b[0m                                                     got=A.shape[0]))\n\u001b[0;32m--> 586\u001b[0;31m                     \u001b[0;32mraise\u001b[0m \u001b[0mValueError\u001b[0m\u001b[0;34m(\u001b[0m\u001b[0mmsg\u001b[0m\u001b[0;34m)\u001b[0m\u001b[0;34m\u001b[0m\u001b[0;34m\u001b[0m\u001b[0m\n\u001b[0m\u001b[1;32m    587\u001b[0m \u001b[0;34m\u001b[0m\u001b[0m\n\u001b[1;32m    588\u001b[0m                 \u001b[0;32mif\u001b[0m \u001b[0mbcol_lengths\u001b[0m\u001b[0;34m[\u001b[0m\u001b[0mj\u001b[0m\u001b[0;34m]\u001b[0m \u001b[0;34m==\u001b[0m \u001b[0;36m0\u001b[0m\u001b[0;34m:\u001b[0m\u001b[0;34m\u001b[0m\u001b[0;34m\u001b[0m\u001b[0m\n",
            "\u001b[0;31mValueError\u001b[0m: blocks[0,:] has incompatible row dimensions. Got blocks[0,2].shape[0] == 15840, expected 19801."
          ]
        }
      ]
    },
    {
      "cell_type": "code",
      "metadata": {
        "id": "52dz6N6Sg3WA"
      },
      "source": [
        "import lightgbm as lgb\n",
        "train_data = lgb.Dataset(merged_train, label=y_train)\n",
        "\n",
        "param = {'objective': 'multiclass',\n",
        "         'num_iterations': 100,\n",
        "         'learning_rate': 0.04,  \n",
        "         'num_leaves': 23,\n",
        "         'max_depth': 9, \n",
        "         'min_data_in_leaf': 25, \n",
        "         'max_bin': 10, \n",
        "         'min_data_in_bin': 3,   \n",
        "         'num_class': 6,\n",
        "         'metric': 'multi_logloss'\n",
        "         }\n",
        "\n",
        "lgbm = lgb.train(params=param, \n",
        "                 train_set=train_data)\n",
        "\n",
        "predictions = lgbm.predict(merged_test)\n",
        "\n",
        "y_pred_class = []\n",
        "for x in predictions:\n",
        "    y_pred_class.append(np.argmax(x))\n",
        "\n",
        "y_pred_class = le.inverse_transform(y_pred_class)"
      ],
      "execution_count": null,
      "outputs": []
    },
    {
      "cell_type": "code",
      "metadata": {
        "id": "BDDOl9dJg3WA"
      },
      "source": [
        "df_sub = pd.DataFrame(data=y_pred_class, columns=['salary'])"
      ],
      "execution_count": null,
      "outputs": []
    },
    {
      "cell_type": "code",
      "metadata": {
        "id": "cqy2ixJCmnFn"
      },
      "source": [
        "pip install xlsxwriter"
      ],
      "execution_count": null,
      "outputs": []
    },
    {
      "cell_type": "code",
      "metadata": {
        "id": "w8V1gzCGg3WA"
      },
      "source": [
        "import xlsxwriter\n",
        "writer = pd.ExcelWriter('output.xlsx', engine='xlsxwriter')\n",
        "df_sub.to_excel(writer,sheet_name='Sheet1', index=False)\n",
        "writer.save()"
      ],
      "execution_count": null,
      "outputs": []
    },
    {
      "cell_type": "code",
      "metadata": {
        "id": "U4xeX8T7g3WA"
      },
      "source": [
        ""
      ],
      "execution_count": null,
      "outputs": []
    }
  ]
}