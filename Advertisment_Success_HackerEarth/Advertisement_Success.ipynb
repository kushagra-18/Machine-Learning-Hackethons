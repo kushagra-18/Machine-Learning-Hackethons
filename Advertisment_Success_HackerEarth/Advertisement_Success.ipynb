{
  "nbformat": 4,
  "nbformat_minor": 0,
  "metadata": {
    "colab": {
      "name": "Advertisement_Success.ipynb",
      "provenance": [],
      "collapsed_sections": [
        "iPGDV6SSISbs"
      ]
    },
    "kernelspec": {
      "name": "python3",
      "display_name": "Python 3"
    }
  },
  "cells": [
    {
      "cell_type": "markdown",
      "metadata": {
        "id": "iPGDV6SSISbs"
      },
      "source": [
        "##### Kaggle dataset import"
      ]
    },
    {
      "cell_type": "code",
      "metadata": {
        "colab": {
          "base_uri": "https://localhost:8080/"
        },
        "id": "YD6Qia-oCxNT",
        "outputId": "f40115f6-552f-4ed3-e320-623e52205542"
      },
      "source": [
        "!pip install ipython-autotime"
      ],
      "execution_count": 5,
      "outputs": [
        {
          "output_type": "stream",
          "text": [
            "Collecting ipython-autotime\n",
            "  Downloading https://files.pythonhosted.org/packages/b4/c9/b413a24f759641bc27ef98c144b590023c8038dfb8a3f09e713e9dff12c1/ipython_autotime-0.3.1-py2.py3-none-any.whl\n",
            "Requirement already satisfied: ipython in /usr/local/lib/python3.6/dist-packages (from ipython-autotime) (5.5.0)\n",
            "Requirement already satisfied: prompt-toolkit<2.0.0,>=1.0.4 in /usr/local/lib/python3.6/dist-packages (from ipython->ipython-autotime) (1.0.18)\n",
            "Requirement already satisfied: pickleshare in /usr/local/lib/python3.6/dist-packages (from ipython->ipython-autotime) (0.7.5)\n",
            "Requirement already satisfied: decorator in /usr/local/lib/python3.6/dist-packages (from ipython->ipython-autotime) (4.4.2)\n",
            "Requirement already satisfied: pygments in /usr/local/lib/python3.6/dist-packages (from ipython->ipython-autotime) (2.6.1)\n",
            "Requirement already satisfied: traitlets>=4.2 in /usr/local/lib/python3.6/dist-packages (from ipython->ipython-autotime) (4.3.3)\n",
            "Requirement already satisfied: pexpect; sys_platform != \"win32\" in /usr/local/lib/python3.6/dist-packages (from ipython->ipython-autotime) (4.8.0)\n",
            "Requirement already satisfied: setuptools>=18.5 in /usr/local/lib/python3.6/dist-packages (from ipython->ipython-autotime) (51.3.3)\n",
            "Requirement already satisfied: simplegeneric>0.8 in /usr/local/lib/python3.6/dist-packages (from ipython->ipython-autotime) (0.8.1)\n",
            "Requirement already satisfied: wcwidth in /usr/local/lib/python3.6/dist-packages (from prompt-toolkit<2.0.0,>=1.0.4->ipython->ipython-autotime) (0.2.5)\n",
            "Requirement already satisfied: six>=1.9.0 in /usr/local/lib/python3.6/dist-packages (from prompt-toolkit<2.0.0,>=1.0.4->ipython->ipython-autotime) (1.15.0)\n",
            "Requirement already satisfied: ipython-genutils in /usr/local/lib/python3.6/dist-packages (from traitlets>=4.2->ipython->ipython-autotime) (0.2.0)\n",
            "Requirement already satisfied: ptyprocess>=0.5 in /usr/local/lib/python3.6/dist-packages (from pexpect; sys_platform != \"win32\"->ipython->ipython-autotime) (0.7.0)\n",
            "Installing collected packages: ipython-autotime\n",
            "Successfully installed ipython-autotime-0.3.1\n"
          ],
          "name": "stdout"
        }
      ]
    },
    {
      "cell_type": "code",
      "metadata": {
        "id": "ytFWFdr_9pZ5"
      },
      "source": [
        " pip install -q kaggle"
      ],
      "execution_count": 6,
      "outputs": []
    },
    {
      "cell_type": "code",
      "metadata": {
        "colab": {
          "resources": {
            "http://localhost:8080/nbextensions/google.colab/files.js": {
              "data": "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",
              "ok": true,
              "headers": [
                [
                  "content-type",
                  "application/javascript"
                ]
              ],
              "status": 200,
              "status_text": ""
            }
          },
          "base_uri": "https://localhost:8080/",
          "height": 0
        },
        "id": "-BysTl7tJ3ZH",
        "outputId": "0e3e8004-60ac-445c-b685-0f1f0def0b5b"
      },
      "source": [
        "from google.colab import files\r\n",
        "\r\n",
        "files.upload()"
      ],
      "execution_count": 7,
      "outputs": [
        {
          "output_type": "display_data",
          "data": {
            "text/html": [
              "\n",
              "     <input type=\"file\" id=\"files-4de60d6d-539c-4946-8fd2-f4ae1026a8cb\" name=\"files[]\" multiple disabled\n",
              "        style=\"border:none\" />\n",
              "     <output id=\"result-4de60d6d-539c-4946-8fd2-f4ae1026a8cb\">\n",
              "      Upload widget is only available when the cell has been executed in the\n",
              "      current browser session. Please rerun this cell to enable.\n",
              "      </output>\n",
              "      <script src=\"/nbextensions/google.colab/files.js\"></script> "
            ],
            "text/plain": [
              "<IPython.core.display.HTML object>"
            ]
          },
          "metadata": {
            "tags": []
          }
        },
        {
          "output_type": "stream",
          "text": [
            "Saving kaggle.json to kaggle.json\n"
          ],
          "name": "stdout"
        },
        {
          "output_type": "execute_result",
          "data": {
            "text/plain": [
              "{'kaggle.json': b'{\"username\":\"kushagra180\",\"key\":\"c851254106f8a95965aff169fb5ffc98\"}'}"
            ]
          },
          "metadata": {
            "tags": []
          },
          "execution_count": 7
        }
      ]
    },
    {
      "cell_type": "code",
      "metadata": {
        "id": "5SZeNjCwJ7k2"
      },
      "source": [
        "! mkdir ~/.kaggle"
      ],
      "execution_count": 8,
      "outputs": []
    },
    {
      "cell_type": "code",
      "metadata": {
        "id": "d-YBqEYpKBpl"
      },
      "source": [
        "! cp kaggle.json ~/.kaggle/"
      ],
      "execution_count": 9,
      "outputs": []
    },
    {
      "cell_type": "code",
      "metadata": {
        "id": "FjP15q8RKFVu"
      },
      "source": [
        "! chmod 600 ~/.kaggle/kaggle.json"
      ],
      "execution_count": 10,
      "outputs": []
    },
    {
      "cell_type": "code",
      "metadata": {
        "colab": {
          "base_uri": "https://localhost:8080/"
        },
        "id": "QVs-e652KHpv",
        "outputId": "ded88185-e3ac-4f75-a431-386cd6041538"
      },
      "source": [
        "!kaggle datasets download -d rohanchreddy/advertsuccess"
      ],
      "execution_count": 11,
      "outputs": [
        {
          "output_type": "stream",
          "text": [
            "Downloading advertsuccess.zip to /content\n",
            "\r  0% 0.00/293k [00:00<?, ?B/s]\n",
            "\r100% 293k/293k [00:00<00:00, 92.7MB/s]\n"
          ],
          "name": "stdout"
        }
      ]
    },
    {
      "cell_type": "code",
      "metadata": {
        "id": "MvWJJ0JDKJrb",
        "colab": {
          "base_uri": "https://localhost:8080/"
        },
        "outputId": "86b0e84c-b349-4967-eb14-1429acc4d31f"
      },
      "source": [
        "!unzip \"/content/advertsuccess.zip\""
      ],
      "execution_count": 12,
      "outputs": [
        {
          "output_type": "stream",
          "text": [
            "Archive:  /content/advertsuccess.zip\n",
            "  inflating: Test.csv                \n",
            "  inflating: Train.csv               \n"
          ],
          "name": "stdout"
        }
      ]
    },
    {
      "cell_type": "markdown",
      "metadata": {
        "id": "9xXiV2b4axHk"
      },
      "source": [
        "# Model"
      ]
    },
    {
      "cell_type": "code",
      "metadata": {
        "id": "3b3IPvB0a8_-"
      },
      "source": [
        "import regex as re\r\n",
        "import nltk\r\n",
        "import seaborn as sns\r\n",
        "import numpy as np\r\n",
        "from sklearn.metrics import mean_squared_error as MSE, r2_score\r\n",
        "from scipy.stats import skew,kurtosis,zscore\r\n",
        "from sklearn.metrics import accuracy_score\r\n",
        "from nltk.corpus import stopwords\r\n",
        "from sklearn.feature_extraction.text import TfidfVectorizer\r\n",
        "import re\r\n",
        "import matplotlib.pyplot as plt\r\n",
        "from sklearn.feature_extraction.text import CountVectorizer\r\n",
        "import pandas as pd"
      ],
      "execution_count": 299,
      "outputs": []
    },
    {
      "cell_type": "code",
      "metadata": {
        "id": "ALhY0CHxaqxF"
      },
      "source": [
        "df = pd.read_csv(\"/content/Train.csv\")"
      ],
      "execution_count": 300,
      "outputs": []
    },
    {
      "cell_type": "code",
      "metadata": {
        "colab": {
          "base_uri": "https://localhost:8080/",
          "height": 166
        },
        "id": "tjo1y_16awJE",
        "outputId": "cdd54a4d-e6c6-4fd9-af91-c7c8ac4c8832"
      },
      "source": [
        "df.head(4)"
      ],
      "execution_count": 301,
      "outputs": [
        {
          "output_type": "execute_result",
          "data": {
            "text/html": [
              "<div>\n",
              "<style scoped>\n",
              "    .dataframe tbody tr th:only-of-type {\n",
              "        vertical-align: middle;\n",
              "    }\n",
              "\n",
              "    .dataframe tbody tr th {\n",
              "        vertical-align: top;\n",
              "    }\n",
              "\n",
              "    .dataframe thead th {\n",
              "        text-align: right;\n",
              "    }\n",
              "</style>\n",
              "<table border=\"1\" class=\"dataframe\">\n",
              "  <thead>\n",
              "    <tr style=\"text-align: right;\">\n",
              "      <th></th>\n",
              "      <th>id</th>\n",
              "      <th>realtionship_status</th>\n",
              "      <th>industry</th>\n",
              "      <th>genre</th>\n",
              "      <th>targeted_sex</th>\n",
              "      <th>average_runtime(minutes_per_week)</th>\n",
              "      <th>airtime</th>\n",
              "      <th>airlocation</th>\n",
              "      <th>ratings</th>\n",
              "      <th>expensive</th>\n",
              "      <th>money_back_guarantee</th>\n",
              "      <th>netgain</th>\n",
              "    </tr>\n",
              "  </thead>\n",
              "  <tbody>\n",
              "    <tr>\n",
              "      <th>0</th>\n",
              "      <td>19717</td>\n",
              "      <td>Married-spouse-absent</td>\n",
              "      <td>Auto</td>\n",
              "      <td>Comedy</td>\n",
              "      <td>Male</td>\n",
              "      <td>45</td>\n",
              "      <td>Primetime</td>\n",
              "      <td>United-States</td>\n",
              "      <td>0.027465</td>\n",
              "      <td>High</td>\n",
              "      <td>No</td>\n",
              "      <td>False</td>\n",
              "    </tr>\n",
              "    <tr>\n",
              "      <th>1</th>\n",
              "      <td>31593</td>\n",
              "      <td>Married-civ-spouse</td>\n",
              "      <td>Pharma</td>\n",
              "      <td>Comedy</td>\n",
              "      <td>Male</td>\n",
              "      <td>45</td>\n",
              "      <td>Primetime</td>\n",
              "      <td>United-States</td>\n",
              "      <td>0.027465</td>\n",
              "      <td>Low</td>\n",
              "      <td>No</td>\n",
              "      <td>False</td>\n",
              "    </tr>\n",
              "    <tr>\n",
              "      <th>2</th>\n",
              "      <td>5681</td>\n",
              "      <td>Divorced</td>\n",
              "      <td>Entertainment</td>\n",
              "      <td>Comedy</td>\n",
              "      <td>Female</td>\n",
              "      <td>45</td>\n",
              "      <td>Primetime</td>\n",
              "      <td>United-States</td>\n",
              "      <td>0.027465</td>\n",
              "      <td>High</td>\n",
              "      <td>Yes</td>\n",
              "      <td>False</td>\n",
              "    </tr>\n",
              "    <tr>\n",
              "      <th>3</th>\n",
              "      <td>15491</td>\n",
              "      <td>Separated</td>\n",
              "      <td>Political</td>\n",
              "      <td>Infomercial</td>\n",
              "      <td>Female</td>\n",
              "      <td>40</td>\n",
              "      <td>Primetime</td>\n",
              "      <td>United-States</td>\n",
              "      <td>0.027465</td>\n",
              "      <td>Low</td>\n",
              "      <td>No</td>\n",
              "      <td>False</td>\n",
              "    </tr>\n",
              "  </tbody>\n",
              "</table>\n",
              "</div>"
            ],
            "text/plain": [
              "      id    realtionship_status  ... money_back_guarantee netgain\n",
              "0  19717  Married-spouse-absent  ...                   No   False\n",
              "1  31593     Married-civ-spouse  ...                   No   False\n",
              "2   5681               Divorced  ...                  Yes   False\n",
              "3  15491              Separated  ...                   No   False\n",
              "\n",
              "[4 rows x 12 columns]"
            ]
          },
          "metadata": {
            "tags": []
          },
          "execution_count": 301
        }
      ]
    },
    {
      "cell_type": "code",
      "metadata": {
        "colab": {
          "base_uri": "https://localhost:8080/",
          "height": 284
        },
        "id": "onDGSt5rawL-",
        "outputId": "9dc217cb-88d1-4b9c-accf-50f812bf0c74"
      },
      "source": [
        "df.describe()"
      ],
      "execution_count": 302,
      "outputs": [
        {
          "output_type": "execute_result",
          "data": {
            "text/html": [
              "<div>\n",
              "<style scoped>\n",
              "    .dataframe tbody tr th:only-of-type {\n",
              "        vertical-align: middle;\n",
              "    }\n",
              "\n",
              "    .dataframe tbody tr th {\n",
              "        vertical-align: top;\n",
              "    }\n",
              "\n",
              "    .dataframe thead th {\n",
              "        text-align: right;\n",
              "    }\n",
              "</style>\n",
              "<table border=\"1\" class=\"dataframe\">\n",
              "  <thead>\n",
              "    <tr style=\"text-align: right;\">\n",
              "      <th></th>\n",
              "      <th>id</th>\n",
              "      <th>average_runtime(minutes_per_week)</th>\n",
              "      <th>ratings</th>\n",
              "    </tr>\n",
              "  </thead>\n",
              "  <tbody>\n",
              "    <tr>\n",
              "      <th>count</th>\n",
              "      <td>26048.000000</td>\n",
              "      <td>26048.000000</td>\n",
              "      <td>26048.000000</td>\n",
              "    </tr>\n",
              "    <tr>\n",
              "      <th>mean</th>\n",
              "      <td>16268.744779</td>\n",
              "      <td>40.294111</td>\n",
              "      <td>0.038716</td>\n",
              "    </tr>\n",
              "    <tr>\n",
              "      <th>std</th>\n",
              "      <td>9413.578020</td>\n",
              "      <td>12.479457</td>\n",
              "      <td>0.075852</td>\n",
              "    </tr>\n",
              "    <tr>\n",
              "      <th>min</th>\n",
              "      <td>2.000000</td>\n",
              "      <td>1.000000</td>\n",
              "      <td>0.000000</td>\n",
              "    </tr>\n",
              "    <tr>\n",
              "      <th>25%</th>\n",
              "      <td>8095.750000</td>\n",
              "      <td>40.000000</td>\n",
              "      <td>0.027465</td>\n",
              "    </tr>\n",
              "    <tr>\n",
              "      <th>50%</th>\n",
              "      <td>16237.000000</td>\n",
              "      <td>40.000000</td>\n",
              "      <td>0.027465</td>\n",
              "    </tr>\n",
              "    <tr>\n",
              "      <th>75%</th>\n",
              "      <td>24413.500000</td>\n",
              "      <td>45.000000</td>\n",
              "      <td>0.027465</td>\n",
              "    </tr>\n",
              "    <tr>\n",
              "      <th>max</th>\n",
              "      <td>32561.000000</td>\n",
              "      <td>99.000000</td>\n",
              "      <td>1.000000</td>\n",
              "    </tr>\n",
              "  </tbody>\n",
              "</table>\n",
              "</div>"
            ],
            "text/plain": [
              "                 id  average_runtime(minutes_per_week)       ratings\n",
              "count  26048.000000                       26048.000000  26048.000000\n",
              "mean   16268.744779                          40.294111      0.038716\n",
              "std     9413.578020                          12.479457      0.075852\n",
              "min        2.000000                           1.000000      0.000000\n",
              "25%     8095.750000                          40.000000      0.027465\n",
              "50%    16237.000000                          40.000000      0.027465\n",
              "75%    24413.500000                          45.000000      0.027465\n",
              "max    32561.000000                          99.000000      1.000000"
            ]
          },
          "metadata": {
            "tags": []
          },
          "execution_count": 302
        }
      ]
    },
    {
      "cell_type": "code",
      "metadata": {
        "colab": {
          "base_uri": "https://localhost:8080/"
        },
        "id": "2_6_deOhxNuS",
        "outputId": "c5979a9b-ce82-4cd5-d751-b4ab22fdd02b"
      },
      "source": [
        "df['ratings'].skew()"
      ],
      "execution_count": 303,
      "outputs": [
        {
          "output_type": "execute_result",
          "data": {
            "text/plain": [
              "11.370725992937627"
            ]
          },
          "metadata": {
            "tags": []
          },
          "execution_count": 303
        }
      ]
    },
    {
      "cell_type": "code",
      "metadata": {
        "id": "BA2jxWA9xbdL"
      },
      "source": [
        "df['ratings'] = np.sqrt(df['ratings'])"
      ],
      "execution_count": 304,
      "outputs": []
    },
    {
      "cell_type": "code",
      "metadata": {
        "colab": {
          "base_uri": "https://localhost:8080/"
        },
        "id": "1wgnE57VxjNV",
        "outputId": "4df027c7-d608-466d-95ef-37d11a28d1b9"
      },
      "source": [
        "df['ratings'].skew()"
      ],
      "execution_count": 305,
      "outputs": [
        {
          "output_type": "execute_result",
          "data": {
            "text/plain": [
              "7.759544441143008"
            ]
          },
          "metadata": {
            "tags": []
          },
          "execution_count": 305
        }
      ]
    },
    {
      "cell_type": "code",
      "metadata": {
        "colab": {
          "base_uri": "https://localhost:8080/"
        },
        "id": "hUmjuZvMawO2",
        "outputId": "c0705af7-26f5-4bdb-ff32-c6fb3490e671"
      },
      "source": [
        "df.info()"
      ],
      "execution_count": 306,
      "outputs": [
        {
          "output_type": "stream",
          "text": [
            "<class 'pandas.core.frame.DataFrame'>\n",
            "RangeIndex: 26048 entries, 0 to 26047\n",
            "Data columns (total 12 columns):\n",
            " #   Column                             Non-Null Count  Dtype  \n",
            "---  ------                             --------------  -----  \n",
            " 0   id                                 26048 non-null  int64  \n",
            " 1   realtionship_status                26048 non-null  object \n",
            " 2   industry                           26048 non-null  object \n",
            " 3   genre                              26048 non-null  object \n",
            " 4   targeted_sex                       26048 non-null  object \n",
            " 5   average_runtime(minutes_per_week)  26048 non-null  int64  \n",
            " 6   airtime                            26048 non-null  object \n",
            " 7   airlocation                        26048 non-null  object \n",
            " 8   ratings                            26048 non-null  float64\n",
            " 9   expensive                          26048 non-null  object \n",
            " 10  money_back_guarantee               26048 non-null  object \n",
            " 11  netgain                            26048 non-null  bool   \n",
            "dtypes: bool(1), float64(1), int64(2), object(8)\n",
            "memory usage: 2.2+ MB\n"
          ],
          "name": "stdout"
        }
      ]
    },
    {
      "cell_type": "code",
      "metadata": {
        "colab": {
          "base_uri": "https://localhost:8080/"
        },
        "id": "6mqFqlvEbc_F",
        "outputId": "23a6769a-8c91-4b52-a9f1-8127887f1982"
      },
      "source": [
        "df['genre'].value_counts()"
      ],
      "execution_count": 307,
      "outputs": [
        {
          "output_type": "execute_result",
          "data": {
            "text/plain": [
              "Comedy         22258\n",
              "Infomercial     2516\n",
              "Drama            803\n",
              "Direct           247\n",
              "Other            224\n",
              "Name: genre, dtype: int64"
            ]
          },
          "metadata": {
            "tags": []
          },
          "execution_count": 307
        }
      ]
    },
    {
      "cell_type": "code",
      "metadata": {
        "id": "ln51vY0dbfN8"
      },
      "source": [
        "df = df.drop(['id'],1)"
      ],
      "execution_count": 308,
      "outputs": []
    },
    {
      "cell_type": "code",
      "metadata": {
        "id": "71H8sI0gcMqA"
      },
      "source": [
        "df_num = df[['average_runtime(minutes_per_week)','ratings']]"
      ],
      "execution_count": 309,
      "outputs": []
    },
    {
      "cell_type": "code",
      "metadata": {
        "colab": {
          "base_uri": "https://localhost:8080/",
          "height": 106
        },
        "id": "PGjlYA1Ecb2G",
        "outputId": "b25b97ca-987e-47dd-afb0-371cdc68e7c0"
      },
      "source": [
        "df_num.head(2)"
      ],
      "execution_count": 310,
      "outputs": [
        {
          "output_type": "execute_result",
          "data": {
            "text/html": [
              "<div>\n",
              "<style scoped>\n",
              "    .dataframe tbody tr th:only-of-type {\n",
              "        vertical-align: middle;\n",
              "    }\n",
              "\n",
              "    .dataframe tbody tr th {\n",
              "        vertical-align: top;\n",
              "    }\n",
              "\n",
              "    .dataframe thead th {\n",
              "        text-align: right;\n",
              "    }\n",
              "</style>\n",
              "<table border=\"1\" class=\"dataframe\">\n",
              "  <thead>\n",
              "    <tr style=\"text-align: right;\">\n",
              "      <th></th>\n",
              "      <th>average_runtime(minutes_per_week)</th>\n",
              "      <th>ratings</th>\n",
              "    </tr>\n",
              "  </thead>\n",
              "  <tbody>\n",
              "    <tr>\n",
              "      <th>0</th>\n",
              "      <td>45</td>\n",
              "      <td>0.165725</td>\n",
              "    </tr>\n",
              "    <tr>\n",
              "      <th>1</th>\n",
              "      <td>45</td>\n",
              "      <td>0.165725</td>\n",
              "    </tr>\n",
              "  </tbody>\n",
              "</table>\n",
              "</div>"
            ],
            "text/plain": [
              "   average_runtime(minutes_per_week)   ratings\n",
              "0                                 45  0.165725\n",
              "1                                 45  0.165725"
            ]
          },
          "metadata": {
            "tags": []
          },
          "execution_count": 310
        }
      ]
    },
    {
      "cell_type": "code",
      "metadata": {
        "id": "Bb8Lj2jIcKJl"
      },
      "source": [
        "df_text = df.drop(['average_runtime(minutes_per_week)','ratings','netgain'],1)"
      ],
      "execution_count": 311,
      "outputs": []
    },
    {
      "cell_type": "code",
      "metadata": {
        "colab": {
          "base_uri": "https://localhost:8080/",
          "height": 106
        },
        "id": "4q9sYLBpcY2k",
        "outputId": "2a40aafd-b162-4e37-ac5e-7a4266866465"
      },
      "source": [
        "df_text.head(2)"
      ],
      "execution_count": 312,
      "outputs": [
        {
          "output_type": "execute_result",
          "data": {
            "text/html": [
              "<div>\n",
              "<style scoped>\n",
              "    .dataframe tbody tr th:only-of-type {\n",
              "        vertical-align: middle;\n",
              "    }\n",
              "\n",
              "    .dataframe tbody tr th {\n",
              "        vertical-align: top;\n",
              "    }\n",
              "\n",
              "    .dataframe thead th {\n",
              "        text-align: right;\n",
              "    }\n",
              "</style>\n",
              "<table border=\"1\" class=\"dataframe\">\n",
              "  <thead>\n",
              "    <tr style=\"text-align: right;\">\n",
              "      <th></th>\n",
              "      <th>realtionship_status</th>\n",
              "      <th>industry</th>\n",
              "      <th>genre</th>\n",
              "      <th>targeted_sex</th>\n",
              "      <th>airtime</th>\n",
              "      <th>airlocation</th>\n",
              "      <th>expensive</th>\n",
              "      <th>money_back_guarantee</th>\n",
              "    </tr>\n",
              "  </thead>\n",
              "  <tbody>\n",
              "    <tr>\n",
              "      <th>0</th>\n",
              "      <td>Married-spouse-absent</td>\n",
              "      <td>Auto</td>\n",
              "      <td>Comedy</td>\n",
              "      <td>Male</td>\n",
              "      <td>Primetime</td>\n",
              "      <td>United-States</td>\n",
              "      <td>High</td>\n",
              "      <td>No</td>\n",
              "    </tr>\n",
              "    <tr>\n",
              "      <th>1</th>\n",
              "      <td>Married-civ-spouse</td>\n",
              "      <td>Pharma</td>\n",
              "      <td>Comedy</td>\n",
              "      <td>Male</td>\n",
              "      <td>Primetime</td>\n",
              "      <td>United-States</td>\n",
              "      <td>Low</td>\n",
              "      <td>No</td>\n",
              "    </tr>\n",
              "  </tbody>\n",
              "</table>\n",
              "</div>"
            ],
            "text/plain": [
              "     realtionship_status industry  ... expensive money_back_guarantee\n",
              "0  Married-spouse-absent     Auto  ...      High                   No\n",
              "1     Married-civ-spouse   Pharma  ...       Low                   No\n",
              "\n",
              "[2 rows x 8 columns]"
            ]
          },
          "metadata": {
            "tags": []
          },
          "execution_count": 312
        }
      ]
    },
    {
      "cell_type": "code",
      "metadata": {
        "id": "gkqdCuqYcqz-"
      },
      "source": [
        "y = df.netgain"
      ],
      "execution_count": 313,
      "outputs": []
    },
    {
      "cell_type": "code",
      "metadata": {
        "id": "GSvDpFMLcgIj"
      },
      "source": [
        "#Using NLP"
      ],
      "execution_count": 314,
      "outputs": []
    },
    {
      "cell_type": "code",
      "metadata": {
        "colab": {
          "base_uri": "https://localhost:8080/"
        },
        "id": "iqOuzWGici_z",
        "outputId": "521ea8ed-15f0-4433-df12-5c72758e99a1"
      },
      "source": [
        "df_text['main'] = df_text[df_text.columns[0:]].apply(\r\n",
        "    lambda x: ','.join(x.dropna().astype(str)),\r\n",
        "    axis=1)\r\n",
        "\r\n",
        "df_text.main.head(3)"
      ],
      "execution_count": 315,
      "outputs": [
        {
          "output_type": "execute_result",
          "data": {
            "text/plain": [
              "0    Married-spouse-absent,Auto,Comedy,Male,Primeti...\n",
              "1    Married-civ-spouse,Pharma,Comedy,Male,Primetim...\n",
              "2    Divorced,Entertainment,Comedy,Female,Primetime...\n",
              "Name: main, dtype: object"
            ]
          },
          "metadata": {
            "tags": []
          },
          "execution_count": 315
        }
      ]
    },
    {
      "cell_type": "code",
      "metadata": {
        "colab": {
          "base_uri": "https://localhost:8080/"
        },
        "id": "_6oAz2Fdczlx",
        "outputId": "acc5b305-d3bf-4a53-aee9-1f2988525ec0"
      },
      "source": [
        "X_text = df_text.main\r\n",
        "X_text.head(2)"
      ],
      "execution_count": 316,
      "outputs": [
        {
          "output_type": "execute_result",
          "data": {
            "text/plain": [
              "0    Married-spouse-absent,Auto,Comedy,Male,Primeti...\n",
              "1    Married-civ-spouse,Pharma,Comedy,Male,Primetim...\n",
              "Name: main, dtype: object"
            ]
          },
          "metadata": {
            "tags": []
          },
          "execution_count": 316
        }
      ]
    },
    {
      "cell_type": "code",
      "metadata": {
        "id": "YVF_bLajc5Tk"
      },
      "source": [
        "model = []\r\n",
        "for i in range(0, df.shape[0]):\r\n",
        "    data = re.sub(r'\\W', ' ', str(X_text[i]))\r\n",
        "    data = data.lower()\r\n",
        "    data = re.sub(r'^br$', ' ', data)\r\n",
        "    data = re.sub(r'\\s+br\\s+',' ',data)\r\n",
        "    data = re.sub(r'\\s+[a-z]\\s+', ' ',data)\r\n",
        "    data = re.sub(r'^b\\s+', '', data)\r\n",
        "    data = re.sub(r'\\s+', ' ', data)\r\n",
        "    model.append(data)   "
      ],
      "execution_count": 317,
      "outputs": []
    },
    {
      "cell_type": "code",
      "metadata": {
        "colab": {
          "base_uri": "https://localhost:8080/",
          "height": 35
        },
        "id": "ZyqT2Gn2c6UK",
        "outputId": "81435d5b-c6af-4b24-8287-4321b33a049c"
      },
      "source": [
        "model[1]"
      ],
      "execution_count": 318,
      "outputs": [
        {
          "output_type": "execute_result",
          "data": {
            "application/vnd.google.colaboratory.intrinsic+json": {
              "type": "string"
            },
            "text/plain": [
              "'married civ spouse pharma comedy male primetime united states low no'"
            ]
          },
          "metadata": {
            "tags": []
          },
          "execution_count": 318
        }
      ]
    },
    {
      "cell_type": "code",
      "metadata": {
        "colab": {
          "base_uri": "https://localhost:8080/"
        },
        "id": "B--TF3uVc79a",
        "outputId": "a21b4000-a94c-48fb-cae6-411539ad0681"
      },
      "source": [
        "import nltk\r\n",
        "nltk.download('stopwords')"
      ],
      "execution_count": 319,
      "outputs": [
        {
          "output_type": "stream",
          "text": [
            "[nltk_data] Downloading package stopwords to /root/nltk_data...\n",
            "[nltk_data]   Package stopwords is already up-to-date!\n"
          ],
          "name": "stdout"
        },
        {
          "output_type": "execute_result",
          "data": {
            "text/plain": [
              "True"
            ]
          },
          "metadata": {
            "tags": []
          },
          "execution_count": 319
        }
      ]
    },
    {
      "cell_type": "code",
      "metadata": {
        "id": "c5XL2TOYc-CE"
      },
      "source": [
        "vector = TfidfVectorizer(max_features = 2000, min_df = 1, max_df = 0.5, stop_words = stopwords.words('english'))\r\n",
        "X_text = vector.fit_transform(model).toarray()"
      ],
      "execution_count": 320,
      "outputs": []
    },
    {
      "cell_type": "code",
      "metadata": {
        "colab": {
          "base_uri": "https://localhost:8080/"
        },
        "id": "s-EpPS_EdAFj",
        "outputId": "fc6219d4-25a0-4711-a344-a82a6e929e04"
      },
      "source": [
        "X_text"
      ],
      "execution_count": 321,
      "outputs": [
        {
          "output_type": "execute_result",
          "data": {
            "text/plain": [
              "array([[0.8158369 , 0.        , 0.36543781, ..., 0.        , 0.        ,\n",
              "        0.        ],\n",
              "       [0.        , 0.        , 0.        , ..., 0.        , 0.        ,\n",
              "        0.        ],\n",
              "       [0.        , 0.        , 0.        , ..., 0.        , 0.        ,\n",
              "        0.        ],\n",
              "       ...,\n",
              "       [0.        , 0.        , 0.        , ..., 0.        , 0.        ,\n",
              "        0.        ],\n",
              "       [0.        , 0.        , 0.54056066, ..., 0.        , 0.        ,\n",
              "        0.        ],\n",
              "       [0.        , 0.        , 0.        , ..., 0.        , 0.        ,\n",
              "        0.        ]])"
            ]
          },
          "metadata": {
            "tags": []
          },
          "execution_count": 321
        }
      ]
    },
    {
      "cell_type": "code",
      "metadata": {
        "id": "-yLT5kc3wD9n"
      },
      "source": [
        "#creating dummy variable of gender\r\n",
        "#dummies1 = pd.get_dummies(df_num['targeted_sex'], prefix = 'targeted_sex',drop_first=True)\r\n",
        "#df_num = df_num.drop(['targeted_sex'],1)"
      ],
      "execution_count": 322,
      "outputs": []
    },
    {
      "cell_type": "code",
      "metadata": {
        "id": "bqbLwN8nwEA6"
      },
      "source": [
        "#df_num = pd.concat([df_num, dummies1], 1)"
      ],
      "execution_count": 323,
      "outputs": []
    },
    {
      "cell_type": "code",
      "metadata": {
        "id": "sjMLrPJNdBdD"
      },
      "source": [
        "from sklearn.preprocessing import MinMaxScaler\r\n",
        "scaler = MinMaxScaler()"
      ],
      "execution_count": 324,
      "outputs": []
    },
    {
      "cell_type": "code",
      "metadata": {
        "colab": {
          "base_uri": "https://localhost:8080/"
        },
        "id": "LilQ5K3PdGuB",
        "outputId": "bd10d1c8-ec69-4f1d-bf3e-f6473a8164e9"
      },
      "source": [
        "df_num = scaler.fit_transform(df_num,1)\r\n",
        "df_num"
      ],
      "execution_count": 325,
      "outputs": [
        {
          "output_type": "execute_result",
          "data": {
            "text/plain": [
              "array([[0.44897959, 0.16572469],\n",
              "       [0.44897959, 0.16572469],\n",
              "       [0.44897959, 0.16572469],\n",
              "       ...,\n",
              "       [0.24489796, 0.31974042],\n",
              "       [0.47959184, 0.16572469],\n",
              "       [0.39795918, 0.16572469]])"
            ]
          },
          "metadata": {
            "tags": []
          },
          "execution_count": 325
        }
      ]
    },
    {
      "cell_type": "code",
      "metadata": {
        "id": "J7Ie2wUwdOdC"
      },
      "source": [
        "X_num = df_num"
      ],
      "execution_count": 326,
      "outputs": []
    },
    {
      "cell_type": "code",
      "metadata": {
        "colab": {
          "base_uri": "https://localhost:8080/"
        },
        "id": "mZ0_dTW0dID6",
        "outputId": "f5abdbc4-a80a-49f8-b3f4-a6f9c162f403"
      },
      "source": [
        "X = np.concatenate((X_text,X_num),axis = 1)\r\n",
        "X"
      ],
      "execution_count": 327,
      "outputs": [
        {
          "output_type": "execute_result",
          "data": {
            "text/plain": [
              "array([[0.8158369 , 0.        , 0.36543781, ..., 0.        , 0.44897959,\n",
              "        0.16572469],\n",
              "       [0.        , 0.        , 0.        , ..., 0.        , 0.44897959,\n",
              "        0.16572469],\n",
              "       [0.        , 0.        , 0.        , ..., 0.        , 0.44897959,\n",
              "        0.16572469],\n",
              "       ...,\n",
              "       [0.        , 0.        , 0.        , ..., 0.        , 0.24489796,\n",
              "        0.31974042],\n",
              "       [0.        , 0.        , 0.54056066, ..., 0.        , 0.47959184,\n",
              "        0.16572469],\n",
              "       [0.        , 0.        , 0.        , ..., 0.        , 0.39795918,\n",
              "        0.16572469]])"
            ]
          },
          "metadata": {
            "tags": []
          },
          "execution_count": 327
        }
      ]
    },
    {
      "cell_type": "markdown",
      "metadata": {
        "id": "xcIWPtp6dTi4"
      },
      "source": [
        "# Prediction"
      ]
    },
    {
      "cell_type": "code",
      "metadata": {
        "id": "wpQdOhxbdLfD"
      },
      "source": [
        "from sklearn.model_selection import train_test_split\r\n",
        "X_train, X_test, y_train, y_test = train_test_split(X, y, test_size = 0.1, random_state = 42)"
      ],
      "execution_count": 328,
      "outputs": []
    },
    {
      "cell_type": "code",
      "metadata": {
        "id": "oGg3aXPzdXmq"
      },
      "source": [
        "from sklearn.ensemble import RandomForestClassifier"
      ],
      "execution_count": 329,
      "outputs": []
    },
    {
      "cell_type": "code",
      "metadata": {
        "id": "dUjEhI1Adb2a"
      },
      "source": [
        "regr = RandomForestClassifier(n_jobs = 4 , random_state=0,n_estimators = 100,verbose = 2)"
      ],
      "execution_count": 330,
      "outputs": []
    },
    {
      "cell_type": "code",
      "metadata": {
        "colab": {
          "base_uri": "https://localhost:8080/"
        },
        "id": "w8d0h6mvdehC",
        "outputId": "d695e114-e8fd-42f8-d51c-674276c8e825"
      },
      "source": [
        "regr.fit(X_train, y_train)"
      ],
      "execution_count": 331,
      "outputs": [
        {
          "output_type": "stream",
          "text": [
            "[Parallel(n_jobs=4)]: Using backend ThreadingBackend with 4 concurrent workers.\n"
          ],
          "name": "stderr"
        },
        {
          "output_type": "stream",
          "text": [
            "building tree 1 of 100\n",
            "building tree 2 of 100\n",
            "building tree 3 of 100\n",
            "building tree 4 of 100\n",
            "building tree 5 of 100\n",
            "building tree 6 of 100\n",
            "building tree 7 of 100\n",
            "building tree 8 of 100\n",
            "building tree 9 of 100\n",
            "building tree 10 of 100\n",
            "building tree 11 of 100\n",
            "building tree 12 of 100\n",
            "building tree 13 of 100building tree 14 of 100\n",
            "\n",
            "building tree 15 of 100\n",
            "building tree 16 of 100\n",
            "building tree 17 of 100building tree 18 of 100\n",
            "\n",
            "building tree 19 of 100\n",
            "building tree 20 of 100\n",
            "building tree 21 of 100building tree 22 of 100\n",
            "\n",
            "building tree 23 of 100\n",
            "building tree 24 of 100\n",
            "building tree 25 of 100\n",
            "building tree 26 of 100building tree 27 of 100\n",
            "\n",
            "building tree 28 of 100\n",
            "building tree 29 of 100\n",
            "building tree 30 of 100\n",
            "building tree 31 of 100\n",
            "building tree 32 of 100building tree 33 of 100\n",
            "\n",
            "building tree 34 of 100\n",
            "building tree 35 of 100\n",
            "building tree 36 of 100\n",
            "building tree 37 of 100\n",
            "building tree 38 of 100\n",
            "building tree 39 of 100\n",
            "building tree 40 of 100\n",
            "building tree 41 of 100\n"
          ],
          "name": "stdout"
        },
        {
          "output_type": "stream",
          "text": [
            "[Parallel(n_jobs=4)]: Done  33 tasks      | elapsed:    0.8s\n"
          ],
          "name": "stderr"
        },
        {
          "output_type": "stream",
          "text": [
            "building tree 42 of 100\n",
            "building tree 43 of 100\n",
            "building tree 44 of 100\n",
            "building tree 45 of 100\n",
            "building tree 46 of 100\n",
            "building tree 47 of 100\n",
            "building tree 48 of 100\n",
            "building tree 49 of 100\n",
            "building tree 50 of 100\n",
            "building tree 51 of 100\n",
            "building tree 52 of 100\n",
            "building tree 53 of 100\n",
            "building tree 54 of 100\n",
            "building tree 55 of 100\n",
            "building tree 56 of 100\n",
            "building tree 57 of 100\n",
            "building tree 58 of 100\n",
            "building tree 59 of 100\n",
            "building tree 60 of 100\n",
            "building tree 61 of 100\n",
            "building tree 62 of 100\n",
            "building tree 63 of 100\n",
            "building tree 64 of 100\n",
            "building tree 65 of 100\n",
            "building tree 66 of 100\n",
            "building tree 67 of 100\n",
            "building tree 68 of 100\n",
            "building tree 69 of 100\n",
            "building tree 70 of 100\n",
            "building tree 71 of 100\n",
            "building tree 72 of 100building tree 73 of 100\n",
            "\n",
            "building tree 74 of 100\n",
            "building tree 75 of 100\n",
            "building tree 76 of 100\n",
            "building tree 77 of 100building tree 78 of 100\n",
            "\n",
            "building tree 79 of 100\n",
            "building tree 80 of 100\n",
            "building tree 81 of 100\n",
            "building tree 82 of 100\n",
            "building tree 83 of 100\n",
            "building tree 84 of 100\n",
            "building tree 85 of 100\n",
            "building tree 86 of 100\n",
            "building tree 87 of 100\n",
            "building tree 88 of 100building tree 89 of 100\n",
            "\n",
            "building tree 90 of 100\n",
            "building tree 91 of 100\n",
            "building tree 92 of 100\n",
            "building tree 93 of 100\n",
            "building tree 94 of 100\n",
            "building tree 95 of 100building tree 96 of 100\n",
            "\n",
            "building tree 97 of 100building tree 98 of 100building tree 99 of 100\n",
            "\n",
            "building tree 100 of 100\n",
            "\n"
          ],
          "name": "stdout"
        },
        {
          "output_type": "stream",
          "text": [
            "[Parallel(n_jobs=4)]: Done 100 out of 100 | elapsed:    2.2s finished\n"
          ],
          "name": "stderr"
        },
        {
          "output_type": "execute_result",
          "data": {
            "text/plain": [
              "RandomForestClassifier(bootstrap=True, ccp_alpha=0.0, class_weight=None,\n",
              "                       criterion='gini', max_depth=None, max_features='auto',\n",
              "                       max_leaf_nodes=None, max_samples=None,\n",
              "                       min_impurity_decrease=0.0, min_impurity_split=None,\n",
              "                       min_samples_leaf=1, min_samples_split=2,\n",
              "                       min_weight_fraction_leaf=0.0, n_estimators=100, n_jobs=4,\n",
              "                       oob_score=False, random_state=0, verbose=2,\n",
              "                       warm_start=False)"
            ]
          },
          "metadata": {
            "tags": []
          },
          "execution_count": 331
        }
      ]
    },
    {
      "cell_type": "code",
      "metadata": {
        "colab": {
          "base_uri": "https://localhost:8080/"
        },
        "id": "1u3tVnoodf1y",
        "outputId": "cdd074f0-78ba-4a00-93d3-d13b39210957"
      },
      "source": [
        "pred_new = regr.predict(X_test)"
      ],
      "execution_count": 332,
      "outputs": [
        {
          "output_type": "stream",
          "text": [
            "[Parallel(n_jobs=4)]: Using backend ThreadingBackend with 4 concurrent workers.\n",
            "[Parallel(n_jobs=4)]: Done  33 tasks      | elapsed:    0.0s\n",
            "[Parallel(n_jobs=4)]: Done 100 out of 100 | elapsed:    0.1s finished\n"
          ],
          "name": "stderr"
        }
      ]
    },
    {
      "cell_type": "code",
      "metadata": {
        "colab": {
          "base_uri": "https://localhost:8080/"
        },
        "id": "4qfn6aojdnNq",
        "outputId": "4581c68b-8320-435b-e04c-d7a312d4e0e0"
      },
      "source": [
        "print (\"Accuracy of test set\",accuracy_score(y_test, pred_new)*100,\"%\")"
      ],
      "execution_count": 333,
      "outputs": [
        {
          "output_type": "stream",
          "text": [
            "Accuracy of test set 80.34548944337811 %\n"
          ],
          "name": "stdout"
        }
      ]
    },
    {
      "cell_type": "code",
      "metadata": {
        "colab": {
          "base_uri": "https://localhost:8080/"
        },
        "id": "msDTS0dndp-e",
        "outputId": "92cb34dc-d3ca-44a4-e05a-a12b6c0131f8"
      },
      "source": [
        "from sklearn.linear_model import LogisticRegression\r\n",
        "\r\n",
        "lr = LogisticRegression()\r\n",
        "\r\n",
        "lr.fit(X_train, y_train)"
      ],
      "execution_count": 334,
      "outputs": [
        {
          "output_type": "execute_result",
          "data": {
            "text/plain": [
              "LogisticRegression(C=1.0, class_weight=None, dual=False, fit_intercept=True,\n",
              "                   intercept_scaling=1, l1_ratio=None, max_iter=100,\n",
              "                   multi_class='auto', n_jobs=None, penalty='l2',\n",
              "                   random_state=None, solver='lbfgs', tol=0.0001, verbose=0,\n",
              "                   warm_start=False)"
            ]
          },
          "metadata": {
            "tags": []
          },
          "execution_count": 334
        }
      ]
    },
    {
      "cell_type": "code",
      "metadata": {
        "id": "qNoCBbShduPE"
      },
      "source": [
        "pred = lr.predict(X_test)\r\n",
        "pred1 = lr.predict(X_train)"
      ],
      "execution_count": 335,
      "outputs": []
    },
    {
      "cell_type": "code",
      "metadata": {
        "colab": {
          "base_uri": "https://localhost:8080/"
        },
        "id": "7kRKbH1Udvky",
        "outputId": "d0ae1fcb-585e-4b6c-cff2-b5b2b7fc038d"
      },
      "source": [
        "print (\"Accuracy of test set\",accuracy_score(y_test, pred)*100,\"%\")\r\n",
        "print (\"Accuracy of training set\",accuracy_score(y_train, pred1)*100,\"%\")"
      ],
      "execution_count": 336,
      "outputs": [
        {
          "output_type": "stream",
          "text": [
            "Accuracy of test set 81.38195777351248 %\n",
            "Accuracy of training set 80.69359723584866 %\n"
          ],
          "name": "stdout"
        }
      ]
    },
    {
      "cell_type": "code",
      "metadata": {
        "id": "88L9BulugOAg"
      },
      "source": [
        "ns_probs = [0 for _ in range(len(y_test))]"
      ],
      "execution_count": 337,
      "outputs": []
    },
    {
      "cell_type": "code",
      "metadata": {
        "id": "CmuV0UixfnDn"
      },
      "source": [
        "lr_probs = lr.predict_proba(X_test)"
      ],
      "execution_count": 338,
      "outputs": []
    },
    {
      "cell_type": "code",
      "metadata": {
        "id": "SonyNASrejUB"
      },
      "source": [
        " from sklearn.metrics import classification_report"
      ],
      "execution_count": 339,
      "outputs": []
    },
    {
      "cell_type": "code",
      "metadata": {
        "colab": {
          "base_uri": "https://localhost:8080/"
        },
        "id": "ilrg9xvbeu2V",
        "outputId": "cbd24926-4327-4684-8ac1-ea97e4c778a4"
      },
      "source": [
        "print(classification_report(y_test,pred))"
      ],
      "execution_count": 340,
      "outputs": [
        {
          "output_type": "stream",
          "text": [
            "              precision    recall  f1-score   support\n",
            "\n",
            "       False       0.84      0.94      0.88      1985\n",
            "        True       0.68      0.41      0.51       620\n",
            "\n",
            "    accuracy                           0.81      2605\n",
            "   macro avg       0.76      0.67      0.70      2605\n",
            "weighted avg       0.80      0.81      0.80      2605\n",
            "\n"
          ],
          "name": "stdout"
        }
      ]
    },
    {
      "cell_type": "code",
      "metadata": {
        "id": "klMfh-tme5P4"
      },
      "source": [
        "from sklearn.metrics import roc_curve\r\n",
        "from sklearn.metrics import roc_auc_score"
      ],
      "execution_count": 341,
      "outputs": []
    },
    {
      "cell_type": "code",
      "metadata": {
        "id": "gWQkxrAFf7RI"
      },
      "source": [
        "lr_probs = lr_probs[:, 1]"
      ],
      "execution_count": 342,
      "outputs": []
    },
    {
      "cell_type": "code",
      "metadata": {
        "id": "N5DVQ3VkfiXi"
      },
      "source": [
        "ns_auc = roc_auc_score(y_test, ns_probs)\r\n",
        "lr_auc = roc_auc_score(y_test, lr_probs)"
      ],
      "execution_count": 343,
      "outputs": []
    },
    {
      "cell_type": "code",
      "metadata": {
        "colab": {
          "base_uri": "https://localhost:8080/"
        },
        "id": "iIUfV3rpf2X4",
        "outputId": "fdc34fd4-45b5-47c0-8e21-0581d199276b"
      },
      "source": [
        "print('No Skill: ROC AUC=%.3f' % (ns_auc))\r\n",
        "print('Logistic: ROC AUC=%.3f' % (lr_auc))"
      ],
      "execution_count": 344,
      "outputs": [
        {
          "output_type": "stream",
          "text": [
            "No Skill: ROC AUC=0.500\n",
            "Logistic: ROC AUC=0.865\n"
          ],
          "name": "stdout"
        }
      ]
    },
    {
      "cell_type": "code",
      "metadata": {
        "id": "sC4ehRBEgYKB"
      },
      "source": [
        "ns_fpr, ns_tpr, _ = roc_curve(y_test, ns_probs)\r\n",
        "lr_fpr, lr_tpr, _ = roc_curve(y_test, lr_probs)"
      ],
      "execution_count": 345,
      "outputs": []
    },
    {
      "cell_type": "code",
      "metadata": {
        "colab": {
          "base_uri": "https://localhost:8080/",
          "height": 279
        },
        "id": "jIk30PtjgbBp",
        "outputId": "b8fd4991-86cc-45c1-9c0d-bbb668142b96"
      },
      "source": [
        "from matplotlib import pyplot\r\n",
        "pyplot.plot(ns_fpr, ns_tpr, linestyle='--', label='No Skill')\r\n",
        "pyplot.plot(lr_fpr, lr_tpr, marker='.', label='Logistic')\r\n",
        "pyplot.xlabel('False Positive Rate')\r\n",
        "pyplot.ylabel('True Positive Rate')\r\n",
        "pyplot.legend()\r\n",
        "pyplot.show()"
      ],
      "execution_count": 346,
      "outputs": [
        {
          "output_type": "display_data",
          "data": {
            "image/png": "[encoded data removed]",
            "text/plain": [
              "<Figure size 432x288 with 1 Axes>"
            ]
          },
          "metadata": {
            "tags": [],
            "needs_background": "light"
          }
        }
      ]
    },
    {
      "cell_type": "code",
      "metadata": {
        "id": "QVjEQb1IoH9J"
      },
      "source": [
        "\r\n",
        "import lightgbm as lgb\r\n",
        "train_data = lgb.Dataset(X_train, label=y_train)"
      ],
      "execution_count": 347,
      "outputs": []
    },
    {
      "cell_type": "code",
      "metadata": {
        "id": "ZsjyeH1AoLT_"
      },
      "source": [
        "param = {'objective': 'multiclass',\r\n",
        "         'num_iterations': 80,\r\n",
        "         'learning_rate': 0.03,  \r\n",
        "         'num_leaves': 15,\r\n",
        "         'max_depth': 15, \r\n",
        "         'min_data_in_leaf': 25, \r\n",
        "         'max_bin': 20, \r\n",
        "         'min_data_in_bin': 3,   \r\n",
        "         'num_class': 2,\r\n",
        "         'metric': 'multi_logloss'\r\n",
        "         }"
      ],
      "execution_count": 348,
      "outputs": []
    },
    {
      "cell_type": "code",
      "metadata": {
        "colab": {
          "base_uri": "https://localhost:8080/"
        },
        "id": "Zk7iuFCuoRLM",
        "outputId": "461e7b0b-3c1f-4236-e97d-0db894bee05e"
      },
      "source": [
        "lgbm = lgb.train(params=param, \r\n",
        "                 train_set=train_data)"
      ],
      "execution_count": 349,
      "outputs": [
        {
          "output_type": "stream",
          "text": [
            "/usr/local/lib/python3.6/dist-packages/lightgbm/engine.py:118: UserWarning: Found `num_iterations` in params. Will use it instead of argument\n",
            "  warnings.warn(\"Found `{}` in params. Will use it instead of argument\".format(alias))\n"
          ],
          "name": "stderr"
        }
      ]
    },
    {
      "cell_type": "code",
      "metadata": {
        "id": "davMCqdtoTND"
      },
      "source": [
        "pred=lgbm.predict(X_test)\r\n",
        "pred1=lgbm.predict(X_train)\r\n",
        "\r\n",
        "pred = np.argmax(pred,-1)\r\n",
        "pred1 = np.argmax(pred1,-1)"
      ],
      "execution_count": 350,
      "outputs": []
    },
    {
      "cell_type": "code",
      "metadata": {
        "colab": {
          "base_uri": "https://localhost:8080/"
        },
        "id": "lRaV52mNoVQP",
        "outputId": "83021a18-38d2-4482-b92b-62f86813c95d"
      },
      "source": [
        "print (\"Accuracy of test set\",accuracy_score(y_test, pred)*100,\"%\")\r\n",
        "print (\"Accuracy of training set\",accuracy_score(y_train, pred1)*100,\"%\")"
      ],
      "execution_count": 351,
      "outputs": [
        {
          "output_type": "stream",
          "text": [
            "Accuracy of test set 81.65067178502879 %\n",
            "Accuracy of training set 81.71309132790172 %\n"
          ],
          "name": "stdout"
        }
      ]
    },
    {
      "cell_type": "code",
      "metadata": {
        "colab": {
          "base_uri": "https://localhost:8080/"
        },
        "id": "9yhEi-JZogtj",
        "outputId": "69e311a9-7fd2-49e8-fc02-6e876eb3ad53"
      },
      "source": [
        "print(classification_report(y_test,pred))"
      ],
      "execution_count": 352,
      "outputs": [
        {
          "output_type": "stream",
          "text": [
            "              precision    recall  f1-score   support\n",
            "\n",
            "       False       0.83      0.96      0.89      1985\n",
            "        True       0.74      0.36      0.48       620\n",
            "\n",
            "    accuracy                           0.82      2605\n",
            "   macro avg       0.78      0.66      0.69      2605\n",
            "weighted avg       0.81      0.82      0.79      2605\n",
            "\n"
          ],
          "name": "stdout"
        }
      ]
    },
    {
      "cell_type": "code",
      "metadata": {
        "colab": {
          "base_uri": "https://localhost:8080/"
        },
        "id": "UhMqNuZkoyh0",
        "outputId": "5585e084-48e6-49f2-934c-4ca8ac3307b4"
      },
      "source": [
        "\r\n",
        "from xgboost import XGBClassifier\r\n",
        "xgb = XGBClassifier(base_score=0.5, booster='dart',num_class=2, colsample_bylevel=1,\r\n",
        "              colsample_bynode=1, colsample_bytree=1, gamma=4,\r\n",
        "              learning_rate=0.1, max_delta_step=0, bagging_fraction=0.8,bagging_freq=1,max_bin= 255, max_depth=4,\r\n",
        "              min_child_weight=1, missing=None, n_estimators=100, n_jobs=1,\r\n",
        "              nthread=None, objective='multi:softmax', random_state=0,\r\n",
        "              reg_alpha=0, reg_lambda=1, scale_pos_weight=1, seed=None,\r\n",
        "              silent=None, subsample=1, verbosity=1, predictor='gpu_predictor')\r\n",
        "\r\n",
        "\r\n",
        "xgb.fit(X_train,y_train)"
      ],
      "execution_count": 353,
      "outputs": [
        {
          "output_type": "execute_result",
          "data": {
            "text/plain": [
              "XGBClassifier(bagging_fraction=0.8, bagging_freq=1, base_score=0.5,\n",
              "              booster='dart', colsample_bylevel=1, colsample_bynode=1,\n",
              "              colsample_bytree=1, gamma=4, learning_rate=0.1, max_bin=255,\n",
              "              max_delta_step=0, max_depth=4, min_child_weight=1, missing=None,\n",
              "              n_estimators=100, n_jobs=1, nthread=None, num_class=2,\n",
              "              objective='multi:softmax', predictor='gpu_predictor',\n",
              "              random_state=0, reg_alpha=0, reg_lambda=1, scale_pos_weight=1,\n",
              "              seed=None, silent=None, subsample=1, verbosity=1)"
            ]
          },
          "metadata": {
            "tags": []
          },
          "execution_count": 353
        }
      ]
    },
    {
      "cell_type": "code",
      "metadata": {
        "id": "wJCsEm2to4la"
      },
      "source": [
        "pred = xgb.predict(X_test)\r\n",
        "pred1 = xgb.predict(X_train)\r\n",
        "\r\n",
        "#pred = np.argmax(pred,-1)\r\n",
        "#pred1 = np.argmax(pred1,-1)"
      ],
      "execution_count": 354,
      "outputs": []
    },
    {
      "cell_type": "code",
      "metadata": {
        "colab": {
          "base_uri": "https://localhost:8080/"
        },
        "id": "0RRI6k0jo_Ri",
        "outputId": "d6eed4b4-2a7c-40d0-f00f-6aa801858592"
      },
      "source": [
        "print(classification_report(y_test,pred))"
      ],
      "execution_count": 355,
      "outputs": [
        {
          "output_type": "stream",
          "text": [
            "              precision    recall  f1-score   support\n",
            "\n",
            "       False       0.84      0.94      0.89      1985\n",
            "        True       0.69      0.43      0.53       620\n",
            "\n",
            "    accuracy                           0.82      2605\n",
            "   macro avg       0.77      0.68      0.71      2605\n",
            "weighted avg       0.80      0.82      0.80      2605\n",
            "\n"
          ],
          "name": "stdout"
        }
      ]
    },
    {
      "cell_type": "markdown",
      "metadata": {
        "id": "O6jADPoDzgs6"
      },
      "source": [
        "# Predicting on Test set"
      ]
    },
    {
      "cell_type": "code",
      "metadata": {
        "id": "OMVyZBUWzrSS"
      },
      "source": [
        "df = pd.read_csv(\"/content/Test.csv\")"
      ],
      "execution_count": 356,
      "outputs": []
    },
    {
      "cell_type": "code",
      "metadata": {
        "colab": {
          "base_uri": "https://localhost:8080/",
          "height": 166
        },
        "id": "H7X_tXj3zrSS",
        "outputId": "aecff972-d8b1-4977-ea2e-10865999619e"
      },
      "source": [
        "df.head(4)"
      ],
      "execution_count": 357,
      "outputs": [
        {
          "output_type": "execute_result",
          "data": {
            "text/html": [
              "<div>\n",
              "<style scoped>\n",
              "    .dataframe tbody tr th:only-of-type {\n",
              "        vertical-align: middle;\n",
              "    }\n",
              "\n",
              "    .dataframe tbody tr th {\n",
              "        vertical-align: top;\n",
              "    }\n",
              "\n",
              "    .dataframe thead th {\n",
              "        text-align: right;\n",
              "    }\n",
              "</style>\n",
              "<table border=\"1\" class=\"dataframe\">\n",
              "  <thead>\n",
              "    <tr style=\"text-align: right;\">\n",
              "      <th></th>\n",
              "      <th>id</th>\n",
              "      <th>realtionship_status</th>\n",
              "      <th>industry</th>\n",
              "      <th>genre</th>\n",
              "      <th>targeted_sex</th>\n",
              "      <th>average_runtime(minutes_per_week)</th>\n",
              "      <th>airtime</th>\n",
              "      <th>airlocation</th>\n",
              "      <th>ratings</th>\n",
              "      <th>expensive</th>\n",
              "      <th>money_back_guarantee</th>\n",
              "    </tr>\n",
              "  </thead>\n",
              "  <tbody>\n",
              "    <tr>\n",
              "      <th>0</th>\n",
              "      <td>1</td>\n",
              "      <td>Widowed</td>\n",
              "      <td>Auto</td>\n",
              "      <td>Comedy</td>\n",
              "      <td>Female</td>\n",
              "      <td>10</td>\n",
              "      <td>Daytime</td>\n",
              "      <td>United-States</td>\n",
              "      <td>0.027465</td>\n",
              "      <td>Low</td>\n",
              "      <td>No</td>\n",
              "    </tr>\n",
              "    <tr>\n",
              "      <th>1</th>\n",
              "      <td>4</td>\n",
              "      <td>Married-civ-spouse</td>\n",
              "      <td>Pharma</td>\n",
              "      <td>Comedy</td>\n",
              "      <td>Male</td>\n",
              "      <td>40</td>\n",
              "      <td>Morning</td>\n",
              "      <td>United-States</td>\n",
              "      <td>0.056262</td>\n",
              "      <td>High</td>\n",
              "      <td>Yes</td>\n",
              "    </tr>\n",
              "    <tr>\n",
              "      <th>2</th>\n",
              "      <td>5</td>\n",
              "      <td>Divorced</td>\n",
              "      <td>Entertainment</td>\n",
              "      <td>Comedy</td>\n",
              "      <td>Female</td>\n",
              "      <td>50</td>\n",
              "      <td>Morning</td>\n",
              "      <td>United-States</td>\n",
              "      <td>0.027465</td>\n",
              "      <td>Low</td>\n",
              "      <td>No</td>\n",
              "    </tr>\n",
              "    <tr>\n",
              "      <th>3</th>\n",
              "      <td>9</td>\n",
              "      <td>Married-civ-spouse</td>\n",
              "      <td>Pharma</td>\n",
              "      <td>Infomercial</td>\n",
              "      <td>Male</td>\n",
              "      <td>40</td>\n",
              "      <td>Primetime</td>\n",
              "      <td>United-States</td>\n",
              "      <td>0.027465</td>\n",
              "      <td>Low</td>\n",
              "      <td>No</td>\n",
              "    </tr>\n",
              "  </tbody>\n",
              "</table>\n",
              "</div>"
            ],
            "text/plain": [
              "   id realtionship_status  ... expensive money_back_guarantee\n",
              "0   1             Widowed  ...       Low                   No\n",
              "1   4  Married-civ-spouse  ...      High                  Yes\n",
              "2   5            Divorced  ...       Low                   No\n",
              "3   9  Married-civ-spouse  ...       Low                   No\n",
              "\n",
              "[4 rows x 11 columns]"
            ]
          },
          "metadata": {
            "tags": []
          },
          "execution_count": 357
        }
      ]
    },
    {
      "cell_type": "code",
      "metadata": {
        "colab": {
          "base_uri": "https://localhost:8080/"
        },
        "id": "mzQt4FbczrSU",
        "outputId": "84a8ed33-85c6-4e10-8b8c-fdfb7f5d3640"
      },
      "source": [
        "df['ratings'].skew()"
      ],
      "execution_count": 358,
      "outputs": [
        {
          "output_type": "execute_result",
          "data": {
            "text/plain": [
              "11.130634282461578"
            ]
          },
          "metadata": {
            "tags": []
          },
          "execution_count": 358
        }
      ]
    },
    {
      "cell_type": "code",
      "metadata": {
        "id": "Fy6XYUVQzrSV"
      },
      "source": [
        "df['ratings'] = np.sqrt(df['ratings'])"
      ],
      "execution_count": 359,
      "outputs": []
    },
    {
      "cell_type": "code",
      "metadata": {
        "colab": {
          "base_uri": "https://localhost:8080/"
        },
        "id": "E0lyKRFbzrSV",
        "outputId": "235dd5ec-f4df-4e42-897f-1e6557fedbda"
      },
      "source": [
        "df['ratings'].skew()"
      ],
      "execution_count": 360,
      "outputs": [
        {
          "output_type": "execute_result",
          "data": {
            "text/plain": [
              "7.707366907210341"
            ]
          },
          "metadata": {
            "tags": []
          },
          "execution_count": 360
        }
      ]
    },
    {
      "cell_type": "code",
      "metadata": {
        "id": "hMFPK1KkzrSW"
      },
      "source": [
        "df = df.drop(['id'],1)"
      ],
      "execution_count": 361,
      "outputs": []
    },
    {
      "cell_type": "code",
      "metadata": {
        "id": "eE7DdEI7zrSX"
      },
      "source": [
        "df_num = df[['average_runtime(minutes_per_week)','ratings']]"
      ],
      "execution_count": 362,
      "outputs": []
    },
    {
      "cell_type": "code",
      "metadata": {
        "colab": {
          "base_uri": "https://localhost:8080/",
          "height": 106
        },
        "id": "HE80bWabzrSX",
        "outputId": "ad0dced3-afa2-44f4-d1e5-1638c4160388"
      },
      "source": [
        "df_num.head(2)"
      ],
      "execution_count": 363,
      "outputs": [
        {
          "output_type": "execute_result",
          "data": {
            "text/html": [
              "<div>\n",
              "<style scoped>\n",
              "    .dataframe tbody tr th:only-of-type {\n",
              "        vertical-align: middle;\n",
              "    }\n",
              "\n",
              "    .dataframe tbody tr th {\n",
              "        vertical-align: top;\n",
              "    }\n",
              "\n",
              "    .dataframe thead th {\n",
              "        text-align: right;\n",
              "    }\n",
              "</style>\n",
              "<table border=\"1\" class=\"dataframe\">\n",
              "  <thead>\n",
              "    <tr style=\"text-align: right;\">\n",
              "      <th></th>\n",
              "      <th>average_runtime(minutes_per_week)</th>\n",
              "      <th>ratings</th>\n",
              "    </tr>\n",
              "  </thead>\n",
              "  <tbody>\n",
              "    <tr>\n",
              "      <th>0</th>\n",
              "      <td>10</td>\n",
              "      <td>0.165725</td>\n",
              "    </tr>\n",
              "    <tr>\n",
              "      <th>1</th>\n",
              "      <td>40</td>\n",
              "      <td>0.237196</td>\n",
              "    </tr>\n",
              "  </tbody>\n",
              "</table>\n",
              "</div>"
            ],
            "text/plain": [
              "   average_runtime(minutes_per_week)   ratings\n",
              "0                                 10  0.165725\n",
              "1                                 40  0.237196"
            ]
          },
          "metadata": {
            "tags": []
          },
          "execution_count": 363
        }
      ]
    },
    {
      "cell_type": "code",
      "metadata": {
        "id": "De8qZkWQzrSX"
      },
      "source": [
        "df_text = df.drop(['average_runtime(minutes_per_week)','ratings'],1)"
      ],
      "execution_count": 364,
      "outputs": []
    },
    {
      "cell_type": "code",
      "metadata": {
        "colab": {
          "base_uri": "https://localhost:8080/",
          "height": 106
        },
        "id": "HVycBqFMzrSY",
        "outputId": "accd70a4-5b91-40d4-a033-118b1365c68b"
      },
      "source": [
        "df_text.head(2)"
      ],
      "execution_count": 365,
      "outputs": [
        {
          "output_type": "execute_result",
          "data": {
            "text/html": [
              "<div>\n",
              "<style scoped>\n",
              "    .dataframe tbody tr th:only-of-type {\n",
              "        vertical-align: middle;\n",
              "    }\n",
              "\n",
              "    .dataframe tbody tr th {\n",
              "        vertical-align: top;\n",
              "    }\n",
              "\n",
              "    .dataframe thead th {\n",
              "        text-align: right;\n",
              "    }\n",
              "</style>\n",
              "<table border=\"1\" class=\"dataframe\">\n",
              "  <thead>\n",
              "    <tr style=\"text-align: right;\">\n",
              "      <th></th>\n",
              "      <th>realtionship_status</th>\n",
              "      <th>industry</th>\n",
              "      <th>genre</th>\n",
              "      <th>targeted_sex</th>\n",
              "      <th>airtime</th>\n",
              "      <th>airlocation</th>\n",
              "      <th>expensive</th>\n",
              "      <th>money_back_guarantee</th>\n",
              "    </tr>\n",
              "  </thead>\n",
              "  <tbody>\n",
              "    <tr>\n",
              "      <th>0</th>\n",
              "      <td>Widowed</td>\n",
              "      <td>Auto</td>\n",
              "      <td>Comedy</td>\n",
              "      <td>Female</td>\n",
              "      <td>Daytime</td>\n",
              "      <td>United-States</td>\n",
              "      <td>Low</td>\n",
              "      <td>No</td>\n",
              "    </tr>\n",
              "    <tr>\n",
              "      <th>1</th>\n",
              "      <td>Married-civ-spouse</td>\n",
              "      <td>Pharma</td>\n",
              "      <td>Comedy</td>\n",
              "      <td>Male</td>\n",
              "      <td>Morning</td>\n",
              "      <td>United-States</td>\n",
              "      <td>High</td>\n",
              "      <td>Yes</td>\n",
              "    </tr>\n",
              "  </tbody>\n",
              "</table>\n",
              "</div>"
            ],
            "text/plain": [
              "  realtionship_status industry  ... expensive money_back_guarantee\n",
              "0             Widowed     Auto  ...       Low                   No\n",
              "1  Married-civ-spouse   Pharma  ...      High                  Yes\n",
              "\n",
              "[2 rows x 8 columns]"
            ]
          },
          "metadata": {
            "tags": []
          },
          "execution_count": 365
        }
      ]
    },
    {
      "cell_type": "code",
      "metadata": {
        "id": "DeY2j6OuzrSZ"
      },
      "source": [
        "#Using NLP"
      ],
      "execution_count": 366,
      "outputs": []
    },
    {
      "cell_type": "code",
      "metadata": {
        "colab": {
          "base_uri": "https://localhost:8080/"
        },
        "id": "vWxXIas-zrSZ",
        "outputId": "ddb04fb3-521d-49e4-a494-6e733b873ed1"
      },
      "source": [
        "df_text['main'] = df_text[df_text.columns[0:]].apply(\r\n",
        "    lambda x: ','.join(x.dropna().astype(str)),\r\n",
        "    axis=1)\r\n",
        "\r\n",
        "df_text.main.head(3)"
      ],
      "execution_count": 367,
      "outputs": [
        {
          "output_type": "execute_result",
          "data": {
            "text/plain": [
              "0    Widowed,Auto,Comedy,Female,Daytime,United-Stat...\n",
              "1    Married-civ-spouse,Pharma,Comedy,Male,Morning,...\n",
              "2    Divorced,Entertainment,Comedy,Female,Morning,U...\n",
              "Name: main, dtype: object"
            ]
          },
          "metadata": {
            "tags": []
          },
          "execution_count": 367
        }
      ]
    },
    {
      "cell_type": "code",
      "metadata": {
        "colab": {
          "base_uri": "https://localhost:8080/"
        },
        "id": "gAHp2K3-zrSZ",
        "outputId": "549ac515-dc8a-46cd-bd04-5fc1ee387e0f"
      },
      "source": [
        "X_text = df_text.main\r\n",
        "X_text.head(2)"
      ],
      "execution_count": 368,
      "outputs": [
        {
          "output_type": "execute_result",
          "data": {
            "text/plain": [
              "0    Widowed,Auto,Comedy,Female,Daytime,United-Stat...\n",
              "1    Married-civ-spouse,Pharma,Comedy,Male,Morning,...\n",
              "Name: main, dtype: object"
            ]
          },
          "metadata": {
            "tags": []
          },
          "execution_count": 368
        }
      ]
    },
    {
      "cell_type": "code",
      "metadata": {
        "id": "Np2qofIuzrSa"
      },
      "source": [
        "model = []\r\n",
        "for i in range(0, df.shape[0]):\r\n",
        "    data = re.sub(r'\\W', ' ', str(X_text[i]))\r\n",
        "    data = data.lower()\r\n",
        "    data = re.sub(r'^br$', ' ', data)\r\n",
        "    data = re.sub(r'\\s+br\\s+',' ',data)\r\n",
        "    data = re.sub(r'\\s+[a-z]\\s+', ' ',data)\r\n",
        "    data = re.sub(r'^b\\s+', '', data)\r\n",
        "    data = re.sub(r'\\s+', ' ', data)\r\n",
        "    model.append(data)   "
      ],
      "execution_count": 369,
      "outputs": []
    },
    {
      "cell_type": "code",
      "metadata": {
        "colab": {
          "base_uri": "https://localhost:8080/",
          "height": 35
        },
        "id": "MN9f4Qo8zrSa",
        "outputId": "b221dd7f-9acb-45a0-e753-cb4c6824ce80"
      },
      "source": [
        "model[1]"
      ],
      "execution_count": 370,
      "outputs": [
        {
          "output_type": "execute_result",
          "data": {
            "application/vnd.google.colaboratory.intrinsic+json": {
              "type": "string"
            },
            "text/plain": [
              "'married civ spouse pharma comedy male morning united states high yes'"
            ]
          },
          "metadata": {
            "tags": []
          },
          "execution_count": 370
        }
      ]
    },
    {
      "cell_type": "code",
      "metadata": {
        "colab": {
          "base_uri": "https://localhost:8080/"
        },
        "id": "hui7Plk9zrSa",
        "outputId": "b479c41c-34cc-4495-e7a9-31d38154a5b1"
      },
      "source": [
        "import nltk\r\n",
        "nltk.download('stopwords')"
      ],
      "execution_count": 371,
      "outputs": [
        {
          "output_type": "stream",
          "text": [
            "[nltk_data] Downloading package stopwords to /root/nltk_data...\n",
            "[nltk_data]   Package stopwords is already up-to-date!\n"
          ],
          "name": "stdout"
        },
        {
          "output_type": "execute_result",
          "data": {
            "text/plain": [
              "True"
            ]
          },
          "metadata": {
            "tags": []
          },
          "execution_count": 371
        }
      ]
    },
    {
      "cell_type": "code",
      "metadata": {
        "id": "gX0SAYemzrSb"
      },
      "source": [
        "#vector = TfidfVectorizer(max_features = 2000, min_df = 1, max_df = 0.5, stop_words = stopwords.words('english'))\r\n",
        "X_text = vector.transform(model).toarray()"
      ],
      "execution_count": 372,
      "outputs": []
    },
    {
      "cell_type": "code",
      "metadata": {
        "colab": {
          "base_uri": "https://localhost:8080/"
        },
        "id": "fV9LuBkrzrSb",
        "outputId": "ba4ada7a-4ab9-44ef-ec2e-cdc3f3551b3e"
      },
      "source": [
        "X_text"
      ],
      "execution_count": 373,
      "outputs": [
        {
          "output_type": "execute_result",
          "data": {
            "text/plain": [
              "array([[0.        , 0.        , 0.35749616, ..., 0.        , 0.68052474,\n",
              "        0.        ],\n",
              "       [0.        , 0.        , 0.        , ..., 0.        , 0.        ,\n",
              "        0.        ],\n",
              "       [0.        , 0.        , 0.        , ..., 0.        , 0.        ,\n",
              "        0.        ],\n",
              "       ...,\n",
              "       [0.        , 0.        , 0.        , ..., 0.        , 0.        ,\n",
              "        0.        ],\n",
              "       [0.        , 0.        , 0.        , ..., 0.        , 0.        ,\n",
              "        0.        ],\n",
              "       [0.        , 0.        , 0.        , ..., 0.        , 0.        ,\n",
              "        0.        ]])"
            ]
          },
          "metadata": {
            "tags": []
          },
          "execution_count": 373
        }
      ]
    },
    {
      "cell_type": "code",
      "metadata": {
        "colab": {
          "base_uri": "https://localhost:8080/"
        },
        "id": "QvrHzaSjzrSc",
        "outputId": "66f7ffa7-dd4b-4f81-9775-2326eadd753f"
      },
      "source": [
        "df_num = scaler.transform(df_num)\r\n",
        "df_num"
      ],
      "execution_count": 374,
      "outputs": [
        {
          "output_type": "execute_result",
          "data": {
            "text/plain": [
              "array([[0.09183673, 0.16572469],\n",
              "       [0.39795918, 0.23719555],\n",
              "       [0.5       , 0.16572469],\n",
              "       ...,\n",
              "       [0.39795918, 0.16572469],\n",
              "       [0.39795918, 0.16572469],\n",
              "       [0.39795918, 0.16572469]])"
            ]
          },
          "metadata": {
            "tags": []
          },
          "execution_count": 374
        }
      ]
    },
    {
      "cell_type": "code",
      "metadata": {
        "id": "1a4WdXpKzrSd"
      },
      "source": [
        "X_num = df_num"
      ],
      "execution_count": 375,
      "outputs": []
    },
    {
      "cell_type": "code",
      "metadata": {
        "colab": {
          "base_uri": "https://localhost:8080/"
        },
        "id": "Ow8dpCybzrSd",
        "outputId": "324b55d2-0eea-4692-ca80-3c55eb6fcae1"
      },
      "source": [
        "X = np.concatenate((X_text,X_num),axis = 1)\r\n",
        "X"
      ],
      "execution_count": 376,
      "outputs": [
        {
          "output_type": "execute_result",
          "data": {
            "text/plain": [
              "array([[0.        , 0.        , 0.35749616, ..., 0.        , 0.09183673,\n",
              "        0.16572469],\n",
              "       [0.        , 0.        , 0.        , ..., 0.        , 0.39795918,\n",
              "        0.23719555],\n",
              "       [0.        , 0.        , 0.        , ..., 0.        , 0.5       ,\n",
              "        0.16572469],\n",
              "       ...,\n",
              "       [0.        , 0.        , 0.        , ..., 0.        , 0.39795918,\n",
              "        0.16572469],\n",
              "       [0.        , 0.        , 0.        , ..., 0.        , 0.39795918,\n",
              "        0.16572469],\n",
              "       [0.        , 0.        , 0.        , ..., 0.        , 0.39795918,\n",
              "        0.16572469]])"
            ]
          },
          "metadata": {
            "tags": []
          },
          "execution_count": 376
        }
      ]
    },
    {
      "cell_type": "code",
      "metadata": {
        "id": "UaiXePPmz71h"
      },
      "source": [
        "res = xgb.predict(X)"
      ],
      "execution_count": 384,
      "outputs": []
    },
    {
      "cell_type": "code",
      "metadata": {
        "id": "eFBEBbR739qQ"
      },
      "source": [
        "#res = np.argmax(res,-1)"
      ],
      "execution_count": 385,
      "outputs": []
    },
    {
      "cell_type": "code",
      "metadata": {
        "id": "X8zvWXeQ0FZ1"
      },
      "source": [
        "df_sub = pd.DataFrame(data = res, columns=['netgain'])"
      ],
      "execution_count": 386,
      "outputs": []
    },
    {
      "cell_type": "code",
      "metadata": {
        "colab": {
          "base_uri": "https://localhost:8080/",
          "height": 195
        },
        "id": "iqj3tfGy0uEM",
        "outputId": "bc97c5e8-7de7-4f88-d82f-b8adb3011d42"
      },
      "source": [
        "df_sub.head()"
      ],
      "execution_count": 387,
      "outputs": [
        {
          "output_type": "execute_result",
          "data": {
            "text/html": [
              "<div>\n",
              "<style scoped>\n",
              "    .dataframe tbody tr th:only-of-type {\n",
              "        vertical-align: middle;\n",
              "    }\n",
              "\n",
              "    .dataframe tbody tr th {\n",
              "        vertical-align: top;\n",
              "    }\n",
              "\n",
              "    .dataframe thead th {\n",
              "        text-align: right;\n",
              "    }\n",
              "</style>\n",
              "<table border=\"1\" class=\"dataframe\">\n",
              "  <thead>\n",
              "    <tr style=\"text-align: right;\">\n",
              "      <th></th>\n",
              "      <th>netgain</th>\n",
              "    </tr>\n",
              "  </thead>\n",
              "  <tbody>\n",
              "    <tr>\n",
              "      <th>0</th>\n",
              "      <td>False</td>\n",
              "    </tr>\n",
              "    <tr>\n",
              "      <th>1</th>\n",
              "      <td>False</td>\n",
              "    </tr>\n",
              "    <tr>\n",
              "      <th>2</th>\n",
              "      <td>False</td>\n",
              "    </tr>\n",
              "    <tr>\n",
              "      <th>3</th>\n",
              "      <td>False</td>\n",
              "    </tr>\n",
              "    <tr>\n",
              "      <th>4</th>\n",
              "      <td>False</td>\n",
              "    </tr>\n",
              "  </tbody>\n",
              "</table>\n",
              "</div>"
            ],
            "text/plain": [
              "   netgain\n",
              "0    False\n",
              "1    False\n",
              "2    False\n",
              "3    False\n",
              "4    False"
            ]
          },
          "metadata": {
            "tags": []
          },
          "execution_count": 387
        }
      ]
    },
    {
      "cell_type": "code",
      "metadata": {
        "id": "n7wm8why0uhV"
      },
      "source": [
        "df_sub.to_csv(\"Res.csv\",index = False)"
      ],
      "execution_count": 388,
      "outputs": []
    }
  ]
}